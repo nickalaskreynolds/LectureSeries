{
 "cells": [
  {
   "cell_type": "markdown",
   "metadata": {
    "slideshow": {
     "slide_type": "slide"
    }
   },
   "source": [
    "# Programming\n",
    "\n",
    "### Nickalas Reynolds\n",
    "### University of Oklahoma"
   ]
  },
  {
   "cell_type": "markdown",
   "metadata": {
    "slideshow": {
     "slide_type": "slide"
    }
   },
   "source": [
    "# Topics\n",
    "---------------\n",
    "Pretty even spread in the poll.\n",
    "\n",
    "I will assume basic coding knowledge in some programming language. Know basic logic (boolean), data types (ints, strings), understand common functionality (if then else, for loops)\n",
    "\n",
    "Our focus (in 2 hours):\n",
    " * Linux\n",
    " * Coding Practices and Principles\n",
    " * Python and C++\n",
    " \n",
    "As scientists we usually just need programming to manipulate and visualize data of some form."
   ]
  },
  {
   "cell_type": "markdown",
   "metadata": {
    "slideshow": {
     "slide_type": "subslide"
    }
   },
   "source": [
    "# Linux\n",
    "-------\n",
    "\n",
    "What is an OS?\n",
    " * Just a collection of instructions that serves as an interface between the user (you) and the hardware\n",
    "\n",
    "Each OS subset operates on separate \"ideologies\"\n",
    " * Windows assumes user is dumb and has a very large (>30GB) collection of instructions and interfaces\n",
    " * MacOS is similar to Windows but more focused and is usually smaller (20 GB)\n",
    " * Linux usually gives more freedom and is easier to do more things"
   ]
  },
  {
   "cell_type": "markdown",
   "metadata": {
    "slideshow": {
     "slide_type": "fragment"
    }
   },
   "source": [
    "``With great power comes great responsibility``"
   ]
  },
  {
   "cell_type": "markdown",
   "metadata": {
    "slideshow": {
     "slide_type": "fragment"
    }
   },
   "source": [
    "Linux is just a kernel (think base software that communicates with hardware) and a shell (interface).\n",
    "Most of the kernel is written in C."
   ]
  },
  {
   "cell_type": "markdown",
   "metadata": {
    "slideshow": {
     "slide_type": "subslide"
    }
   },
   "source": [
    "## Programs\n",
    "--------------------\n",
    "Where are my programs installed?\n",
    "* Windows -> programs or programsx86\n",
    "* MacOS -> Applications\n",
    "* Linux -> (Wherever you want) but usually /bin:/usr/bin:/usr/local/bin\n",
    "\n",
    "How are programs installed?\n",
    "* Windows -> Usually precompiled binary .exe\n",
    "* MacOS -> Usually precompiled binary\n",
    "* Linux -> Can be precompiled, but usually easier and safer to compile yourself\n",
    "\n",
    "How do you call programs?\n",
    "* If you use a GUI you can usually just double click\n",
    "* On the CLI you type in the command name or use ./commandname if it is a local command\n",
    "\n",
    "Common Commands:\n",
    "* cd, ls, mv, rm, vi, cat, ssh\n",
    "* when in doubt use `man commandname` or `commandname --help`"
   ]
  },
  {
   "cell_type": "markdown",
   "metadata": {
    "slideshow": {
     "slide_type": "subslide"
    }
   },
   "source": [
    "The only way to get comfortable with Unix-like systems is to just use them over and over.\n",
    "\n",
    "Need to get comfortable with the CLI instead of a GUI. However, many distributions include pretty rich GUIs (Ubuntu, Mint, RHEL)\n",
    "\n",
    "I included a ``cheatsheet`` for common linux commands"
   ]
  },
  {
   "cell_type": "markdown",
   "metadata": {
    "slideshow": {
     "slide_type": "subslide"
    }
   },
   "source": [
    "<center><img src=\"imgs/LinuxCommandsQuickPic.png\" width=\"800\"></center>"
   ]
  },
  {
   "cell_type": "markdown",
   "metadata": {
    "slideshow": {
     "slide_type": "slide"
    }
   },
   "source": [
    "## Programming Principles\n",
    "----------------------------------------\n",
    "\n",
    "There are some basic programming principles everyone should follow. There there are also language specific guidelines you should follow as well.\n",
    "* KISS: Keep It Simple Stupid\n",
    "* DRY vs WET: Don't Repeat Yourself vs Waste Everyone's Time\n",
    "    * Try to abstract out when appropriate, you should name things once, do things once, create a function once, and let the computer repeat itself.\n",
    "* SoC: Separation of Concerns\n",
    "    * Functions/Modules/Classes should seek to do 1 thing well. Then wrap all of these together\n",
    "* YAGNI: You Ain't Gonna Need It\n",
    "    * Don't worry about optimizing your code at first\n",
    "    * Don't code miscellaneous things that you might need in the future"
   ]
  },
  {
   "cell_type": "markdown",
   "metadata": {
    "slideshow": {
     "slide_type": "subslide"
    }
   },
   "source": [
    "## Common Practices\n",
    "---------------------------------\n",
    "* Organization\n",
    "    * Long Term investment with little initial overhead\n",
    "* Commenting Code\n",
    "    * No one enjoys it but trust me, 9 months+ from now you will appreciate it\n",
    "    * I suggest README.md files too\n",
    "* Version Control\n",
    "    * git is probably the winner here. Most use 2 commands: `add` and `commit`\n",
    "    * Just look at the richness of Github and the entire FOSS community recently\n",
    "* Refactoring\n",
    "    * Don't be afraid to refactor your code periodically"
   ]
  },
  {
   "cell_type": "markdown",
   "metadata": {
    "slideshow": {
     "slide_type": "slide"
    }
   },
   "source": [
    "## Coding Languages\n",
    "-------------------\n",
    "\n",
    "Right tool for the job."
   ]
  },
  {
   "cell_type": "markdown",
   "metadata": {
    "slideshow": {
     "slide_type": "fragment"
    }
   },
   "source": [
    "<center><img src=\"imgs/bike.png\" width=\"500\"></center>"
   ]
  },
  {
   "cell_type": "markdown",
   "metadata": {
    "slideshow": {
     "slide_type": "fragment"
    }
   },
   "source": [
    "Today we will discuss `C++` and `Python` but mostly focus on `Python`.\n",
    "Most just need programming (at this stage) as a form of data manipulation and visualization. \n",
    "\n",
    "Python is a high level programming language while C++ is a relatively low level language.\n",
    "\n",
    "If you need modeling or any extremely intensive computation done, it would be best to write the core in a lower language and then wrap with Python."
   ]
  },
  {
   "cell_type": "markdown",
   "metadata": {
    "slideshow": {
     "slide_type": "subslide"
    }
   },
   "source": [
    "<center><img src=\"imgs/Python-vs-C.jpg\" width=\"800\"></center>"
   ]
  },
  {
   "cell_type": "markdown",
   "metadata": {
    "slideshow": {
     "slide_type": "subslide"
    }
   },
   "source": [
    "## Python is...\n",
    "------------\n",
    "### good at\n",
    " * Readability\n",
    " * Community\n",
    " * Libraries\n",
    " * Scripting\n",
    " * Quick Typing\n",
    " * Garbage Collecting\n",
    "\n",
    "### bad at\n",
    " * Memory Management (non existent)\n",
    " * CPU Load (Difficult)\n",
    "\n",
    "### Needs work\n",
    " * GIL (multiprocessing vs multithreading vs asynchronus: Topic of Concurrency and HPC)"
   ]
  },
  {
   "cell_type": "markdown",
   "metadata": {
    "slideshow": {
     "slide_type": "subslide"
    }
   },
   "source": [
    "<center><img src=\"imgs/PythonCpp.Fibonacci.png\" width=\"1800\"></center>"
   ]
  },
  {
   "cell_type": "markdown",
   "metadata": {
    "slideshow": {
     "slide_type": "subslide"
    }
   },
   "source": [
    "Flavius Josephus was a roman historian of Jewish origin. During the Jewish-Roman wars of the first century AD, he was in a cave with fellow soldiers, 40 men in all, surrounded by enemy Roman troops. They decided to commit suicide by standing in a ring and counting off each third man. Each man so designated was to commit suicide...Josephus, not wanting to die, managed to place himself in the position of the last survivor."
   ]
  },
  {
   "cell_type": "markdown",
   "metadata": {
    "slideshow": {
     "slide_type": "subslide"
    }
   },
   "source": [
    "<center><img src=\"imgs/Comparison.png\" width=\"1000\"></center>"
   ]
  },
  {
   "cell_type": "markdown",
   "metadata": {
    "slideshow": {
     "slide_type": "subslide"
    }
   },
   "source": [
    "### Pip\n",
    "Python package manager.\n",
    "If pip exists in root (`which pip`) then need root access to use! (*Not* possible on local RHEL)\n",
    "\n",
    "`pip`\n",
    " * `search X`\n",
    " * `install X`\n",
    " * `uninstall X`\n",
    " * `show X`\n",
    "\n",
    "Packages I suggest:\n",
    " * cython, matplotlib, ipython, jupyter, numpy, scipy, emcee, sklearn"
   ]
  },
  {
   "cell_type": "markdown",
   "metadata": {
    "slideshow": {
     "slide_type": "subslide"
    }
   },
   "source": [
    "## Now to python itself"
   ]
  },
  {
   "cell_type": "markdown",
   "metadata": {
    "slideshow": {
     "slide_type": "subslide"
    }
   },
   "source": [
    "## Pointers \n",
    "-----------\n",
    "If you are used to pointers in C-varients, they don't directly exist in python. However, iterable objects act as pointers and the python conditional statement ``is`` is a pointer function."
   ]
  },
  {
   "cell_type": "code",
   "execution_count": 21,
   "metadata": {
    "slideshow": {
     "slide_type": "fragment"
    }
   },
   "outputs": [
    {
     "name": "stdout",
     "output_type": "stream",
     "text": [
      "a(-6) is b(-6): False\n",
      "a(0) is b(0): True\n"
     ]
    }
   ],
   "source": [
    "a = -6\n",
    "b = -6\n",
    "print(f'a({a}) is b({b}):', a is b)\n",
    "\n",
    "a = 0\n",
    "b = 0\n",
    "print(f'a({a}) is b({b}):', a is b)"
   ]
  },
  {
   "cell_type": "markdown",
   "metadata": {
    "slideshow": {
     "slide_type": "slide"
    }
   },
   "source": [
    "# Functions\n",
    "---\n",
    "Functions are named blocks of code. Once defined, they are called to execute their task. Functions are used when a particular task needs to be performed repeatedly. Functions make code easier to write, read, test, and fix.\n",
    "\n",
    "Make up a bulk of python (between this and classes) and form the core of any OOP."
   ]
  },
  {
   "cell_type": "markdown",
   "metadata": {
    "slideshow": {
     "slide_type": "fragment"
    }
   },
   "source": [
    "They are defined like this \n",
    "* def function(arguments):\n",
    "They are called like:\n",
    "* function(arguments)\n",
    "and can take positional arguments:\n",
    "* function(arg1, arg2)\n",
    "or keyword arguments\n",
    "* function(arg2=20, arg10=0, arg1=None)"
   ]
  },
  {
   "cell_type": "code",
   "execution_count": 1,
   "metadata": {
    "slideshow": {
     "slide_type": "subslide"
    }
   },
   "outputs": [
    {
     "name": "stdout",
     "output_type": "stream",
     "text": [
      "Calling squaring with complex (1j, 5) :  25\n",
      "Calling squaring with complex (10j, 5):  25\n",
      "Calling squaring with complex (1, 5j) :  (-25+0j)\n",
      "Before Function a= 50\n",
      "Calling squaring with single argument 2:  2500\n",
      "After Function a= 50\n",
      "Calling squaring with no arguments (defaults):  2500\n"
     ]
    }
   ],
   "source": [
    "# squares inside\n",
    "a = 50\n",
    "def squaring(y=1, x=50):\n",
    "    '''\n",
    "    Multi line comments are allow more or less anywhere in python\n",
    "    This function takes an argument x and returns the square\n",
    "    If x not given, will return the default set of 5**2\n",
    "    '''\n",
    "    a = 10\n",
    "    return x * x # equivalent to do x**2\n",
    "\n",
    "# calling the function\n",
    "print('Calling with complex (1j, 5) : ', squaring(1j, 5)) # j is complex\n",
    "print('Calling with complex (10j, 5): ', squaring(10j, 5)) # j is complex\n",
    "print('Calling with complex (1, 5j) : ', squaring(1, 5j)) # j is complex\n",
    "a = 50\n",
    "print('Before Function a=', a) \n",
    "print('Calling with single argument 2: ', squaring(2))\n",
    "print('After Function a=', a) # notice prints the global a not relative\n",
    "print('Calling with no arguments (defaults): ', squaring())"
   ]
  },
  {
   "cell_type": "markdown",
   "metadata": {
    "slideshow": {
     "slide_type": "slide"
    }
   },
   "source": [
    "# External Libraries\n",
    "---\n",
    "This lecture will highlight a few packages: `numpy and matplotlib`. These packages are in many ways the canonical libraries for their respective functions.\n",
    "\n",
    "I suggest taking a look at:\n",
    "* ext packages: `ipython, jupyter, emcee, scipy, sklearn, and asyncio`\n",
    "* int packages: `pickle, csv, json, math, datetime, re, os, sys, mutli(processing/threading)`"
   ]
  },
  {
   "cell_type": "markdown",
   "metadata": {
    "slideshow": {
     "slide_type": "subslide"
    }
   },
   "source": [
    "### Numpy\n",
    "Speed:\n",
    " * Numpy's speed comes from its vectorized operations, namely during arithmetic.\n",
    " * Short of writing in C (or cython), numpys operations are as fast as python can be"
   ]
  },
  {
   "cell_type": "code",
   "execution_count": 2,
   "metadata": {
    "slideshow": {
     "slide_type": "subslide"
    }
   },
   "outputs": [
    {
     "name": "stdout",
     "output_type": "stream",
     "text": [
      "[0. 1. 2. 3. 4.] <class 'numpy.ndarray'>\n",
      "[10.  1.  2.  3.  4.]\n",
      "Ran into an error setting the value: could not convert string to float: 'fish'\n"
     ]
    }
   ],
   "source": [
    "import numpy as np\n",
    "\n",
    "a = np.array([0, 1, 2, 3, 4], dtype=np.float)\n",
    "print(a, type(a))\n",
    "a[0] = 10\n",
    "print(a)\n",
    "try:\n",
    "    a[0] = 'fish'\n",
    "except Exception as e:\n",
    "    print(f'Ran into an error setting the value: {e}')"
   ]
  },
  {
   "cell_type": "code",
   "execution_count": 3,
   "metadata": {
    "slideshow": {
     "slide_type": "skip"
    }
   },
   "outputs": [],
   "source": [
    "import time\n",
    "\n",
    "# This is called a decorator, don't worry about it if you don't understand. But these are fantastictools\n",
    "def timing(f):\n",
    "    \"\"\"Will yield the time it took to compute function.\"\"\"\n",
    "    def wrap(*args, **kwargs):\n",
    "        avg = 0\n",
    "        num = 1000\n",
    "        for x in range(num):\n",
    "            time1 = time.time()\n",
    "            ret = f(*args, **kwargs)\n",
    "            time2 = time.time()\n",
    "            avg += time2 - time1\n",
    "        print('{:s} function took on average {:.3f} ms'.format(f.__name__, (avg / num) * 1000.0))\n",
    "        return ret\n",
    "    return wrap\n",
    "\n",
    "def add_list_ow(ls, val):\n",
    "    for x in range(len(ls)):\n",
    "        ls[x] += val\n",
    "    pass\n",
    "\n",
    "def add_list_copy(ls, val):\n",
    "    return [x + val for x in ls]\n",
    "\n",
    "def add_numpy(ls, val):\n",
    "    return ls + val"
   ]
  },
  {
   "cell_type": "markdown",
   "metadata": {
    "slideshow": {
     "slide_type": "subslide"
    }
   },
   "source": [
    "### The Goal of this next little section is to compare vectorized numpy operations vs un-rolled operations.\n",
    "\n",
    "Steps taken:\n",
    "* Initialize an array of 10000 numbers vs list of 10000 numbers\n",
    "* Test against unraveling with list iterating\n",
    "* Test against unraveling with list comprehension\n",
    "* Test against unraveling with vectorized operations\n",
    "\n",
    "Do all the above 1000 times and average the timing together."
   ]
  },
  {
   "cell_type": "code",
   "execution_count": 4,
   "metadata": {
    "scrolled": true,
    "slideshow": {
     "slide_type": "subslide"
    }
   },
   "outputs": [
    {
     "name": "stdout",
     "output_type": "stream",
     "text": [
      "Setting up numpy array\n",
      "zeros function took on average 0.029 ms\n",
      "Setting up list\n",
      "list function took on average 0.076 ms\n",
      "\n",
      "Testing numpy first then list by looping with unraveling\n",
      "add_list_ow function took on average 10.266 ms\n",
      "add_list_ow function took on average 2.930 ms\n",
      "\n",
      "Now testing operations\n",
      "Testing numpy first then list by looping with comprehension\n",
      "add_list_copy function took on average 8.021 ms\n",
      "add_list_copy function took on average 1.772 ms\n",
      "\n",
      "Testing numpy vectorized\n",
      "add_numpy function took on average 0.027 ms\n"
     ]
    }
   ],
   "source": [
    "print('Setting up numpy array')\n",
    "numpy_a = timing(np.zeros)(10000)\n",
    "print('Setting up list')\n",
    "list_a = timing(list)([0 for x in range(10000)])\n",
    "print('')\n",
    "print('Testing numpy first then list by looping with unraveling')\n",
    "timing(add_list_ow)(numpy_a, 100)\n",
    "timing(add_list_ow)(list_a, 100)\n",
    "print('')\n",
    "print('Now testing operations')\n",
    "print('Testing numpy first then list by looping with comprehension')\n",
    "_ = timing(add_list_copy)(numpy_a, 100)\n",
    "_ = timing(add_list_copy)(list_a, 100)\n",
    "print('')\n",
    "print('Testing numpy vectorized')\n",
    "numpy_a = np.zeros(10000)\n",
    "_ = timing(add_numpy)(numpy_a, 100)"
   ]
  },
  {
   "cell_type": "markdown",
   "metadata": {
    "slideshow": {
     "slide_type": "subslide"
    }
   },
   "source": [
    "### Matplotlib\n",
    "Matplotlib is the standard plotting library in Python. Simple plots can be generated very quickly. There are plenty of visualization options to make publication-quality graphs. https://matplotlib.org/"
   ]
  },
  {
   "cell_type": "code",
   "execution_count": 5,
   "metadata": {
    "scrolled": false,
    "slideshow": {
     "slide_type": "subslide"
    }
   },
   "outputs": [],
   "source": [
    "import matplotlib.pyplot as plt\n",
    "fig = plt.figure()\n",
    "plt.xlabel(\"Value\")\n",
    "plt.ylabel(\"Squared Value\")\n",
    "plt.suptitle(\"Plot of Squares\")\n",
    "plt.plot(np.arange(11)**2)\n",
    "fig.savefig('imgs/img1.png')"
   ]
  },
  {
   "cell_type": "markdown",
   "metadata": {
    "slideshow": {
     "slide_type": "subslide"
    }
   },
   "source": [
    "<center><img src=\"imgs/img1.png\" width=\"1000\"></center>"
   ]
  },
  {
   "cell_type": "markdown",
   "metadata": {
    "slideshow": {
     "slide_type": "subslide"
    }
   },
   "source": [
    "### Lets combine several concepts\n",
    "* Loading data\n",
    "* Functions\n",
    "* Plotting\n",
    "* Fitting\n",
    "* Outputting"
   ]
  },
  {
   "cell_type": "code",
   "execution_count": 12,
   "metadata": {
    "slideshow": {
     "slide_type": "skip"
    }
   },
   "outputs": [],
   "source": [
    "np.random.seed(918239018)"
   ]
  },
  {
   "cell_type": "code",
   "execution_count": 13,
   "metadata": {
    "scrolled": false,
    "slideshow": {
     "slide_type": "subslide"
    }
   },
   "outputs": [
    {
     "data": {
      "image/png": "[encoded data removed]",
      "text/plain": [
       "<Figure size 432x288 with 2 Axes>"
      ]
     },
     "metadata": {
      "needs_background": "light"
     },
     "output_type": "display_data"
    }
   ],
   "source": [
    "# 1.) Necessary imports.    \n",
    "import numpy as np\n",
    "import matplotlib.pyplot as plt\n",
    "from scipy.optimize import curve_fit\n",
    "\n",
    "# 2.) Define fit function.\n",
    "def fit_function(x, A, beta, B, mu, sigma):\n",
    "    return (A * np.exp(-x / beta) + B * np.exp(-1.0 * (x - mu)**2 / (2 * sigma ** 2)))\n",
    "\n",
    "# 3.) Generate exponential and gaussian data and histograms.\n",
    "data = np.random.exponential(scale=0.8, size=100000)\n",
    "data2 = np.random.normal(loc=3.0, scale=0.3, size=15000)\n",
    "fig, ax = plt.subplots(2)\n",
    "ax[0].plot(data)\n",
    "ax[1].plot(data2)\n",
    "fig.savefig('imgs/img2.png')"
   ]
  },
  {
   "cell_type": "markdown",
   "metadata": {
    "slideshow": {
     "slide_type": "subslide"
    }
   },
   "source": [
    "<center><img src=\"imgs/img2.png\" width=\"1000\"></center>"
   ]
  },
  {
   "cell_type": "code",
   "execution_count": 14,
   "metadata": {
    "scrolled": false,
    "slideshow": {
     "slide_type": "subslide"
    }
   },
   "outputs": [],
   "source": [
    "bins = np.linspace(0, 6, 61)\n",
    "data_entries_1, bins_1 = np.histogram(data, bins=bins)\n",
    "data_entries_2, bins_2 = np.histogram(data2, bins=bins)\n",
    "\n",
    "# 4.) Add histograms of exponential and gaussian data.\n",
    "data_entries = data_entries_1 + data_entries_2\n",
    "binscenters = np.array([0.5 * (bins[i] + bins[i+1]) for i in range(len(bins)-1)])"
   ]
  },
  {
   "cell_type": "code",
   "execution_count": 15,
   "metadata": {
    "slideshow": {
     "slide_type": "subslide"
    }
   },
   "outputs": [
    {
     "data": {
      "image/png": "[encoded data removed]",
      "text/plain": [
       "<Figure size 432x288 with 1 Axes>"
      ]
     },
     "metadata": {
      "needs_background": "light"
     },
     "output_type": "display_data"
    }
   ],
   "source": [
    "fig = plt.figure()\n",
    "plt.bar(binscenters, data_entries, width=bins[1] - bins[0], color='navy', label=r'Histogram entries')\n",
    "\n",
    "# Make the plot nicer.\n",
    "plt.xlim(0,6)\n",
    "plt.xlabel(r'x axis')\n",
    "plt.ylabel(r'Number of entries')\n",
    "plt.title(r'Exponential decay with gaussian peak')\n",
    "plt.legend(loc='best')\n",
    "fig.savefig('imgs/img3.png')"
   ]
  },
  {
   "cell_type": "markdown",
   "metadata": {
    "slideshow": {
     "slide_type": "subslide"
    }
   },
   "source": [
    "<center><img src=\"imgs/img3.png\" width=\"1000\"></center>"
   ]
  },
  {
   "cell_type": "code",
   "execution_count": 17,
   "metadata": {
    "slideshow": {
     "slide_type": "subslide"
    }
   },
   "outputs": [
    {
     "name": "stdout",
     "output_type": "stream",
     "text": [
      "(A * np.exp(-x / beta) + B * np.exp(-1.0 * (x - mu)**2 / (2 * sigma ** 2)))\n",
      "A=1.26e+04, beta=0.794, B=1.98e+03, mu=3.0, sigma=0.303\n"
     ]
    }
   ],
   "source": [
    "# 5.) Fit the function to the histogram data.\n",
    "guess = [20000, 1.0, 2000, 3.0, 0.3]\n",
    "popt, pcov = curve_fit(fit_function, xdata=binscenters, ydata=data_entries, p0=guess)\n",
    "print('(A * np.exp(-x / beta) + B * np.exp(-1.0 * (x - mu)**2 / (2 * sigma ** 2)))')\n",
    "print('A={:.3}, beta={:.3}, B={:.3}, mu={:.3}, sigma={:.3}'.format(*popt))\n",
    "\n",
    "# 6.)\n",
    "# Generate enough x values to make the curves look smooth.\n",
    "xspace = np.linspace(0, 6, 100000)  "
   ]
  },
  {
   "cell_type": "code",
   "execution_count": 18,
   "metadata": {
    "slideshow": {
     "slide_type": "subslide"
    }
   },
   "outputs": [
    {
     "data": {
      "image/png": "[encoded data removed]",
      "text/plain": [
       "<Figure size 432x288 with 1 Axes>"
      ]
     },
     "metadata": {
      "needs_background": "light"
     },
     "output_type": "display_data"
    }
   ],
   "source": [
    "# Plot the histogram and the fitted function.\n",
    "fig = plt.figure()\n",
    "plt.bar(binscenters, data_entries, width=bins[1] - bins[0], color='navy', label=r'Histogram entries')\n",
    "plt.plot(xspace, fit_function(xspace, *popt), color='darkorange', linewidth=2.5, label=r'Fitted function')\n",
    "\n",
    "# Make the plot nicer.\n",
    "plt.xlim(0,6)\n",
    "plt.xlabel(r'x axis')\n",
    "plt.ylabel(r'Number of entries')\n",
    "plt.title(r'Exponential decay with gaussian peak')\n",
    "plt.legend(loc='best')\n",
    "fig.savefig('imgs/img4.png')"
   ]
  },
  {
   "cell_type": "markdown",
   "metadata": {
    "slideshow": {
     "slide_type": "subslide"
    }
   },
   "source": [
    "<center><img src=\"imgs/img4.png\" width=\"1000\"></center>"
   ]
  },
  {
   "cell_type": "markdown",
   "metadata": {
    "slideshow": {
     "slide_type": "slide"
    }
   },
   "source": [
    "# Useful things\n",
    "---\n",
    "Ipython (Interactive Python Terminals) and Jupyter can be very helpful (how this presentation was made).\n",
    "\n",
    "Ipython allows for native interactions with your OS terminal (e.g. ls and cp commands work)\n",
    "\n",
    "Jupyter provides a clean and pretty way (enhanced with Markdown) to demonstrate code and provides (IMO) the best way to demonstrate plots (you can plot in 3D and with a GUI manipulate it)"
   ]
  },
  {
   "cell_type": "markdown",
   "metadata": {
    "slideshow": {
     "slide_type": "slide"
    }
   },
   "source": [
    "# Questions?\n",
    "-----------------------\n",
    "Office: NH 207\n",
    "\n",
    "Email:  nickreynolds@ou.edu\n",
    "\n",
    "Jennifer Email: casit@ou.edu"
   ]
  },
  {
   "cell_type": "code",
   "execution_count": null,
   "metadata": {
    "slideshow": {
     "slide_type": "skip"
    }
   },
   "outputs": [],
   "source": []
  }
 ],
 "metadata": {
  "celltoolbar": "Slideshow",
  "kernelspec": {
   "display_name": "Python 3",
   "language": "python",
   "name": "python3"
  },
  "language_info": {
   "codemirror_mode": {
    "name": "ipython",
    "version": 3
   },
   "file_extension": ".py",
   "mimetype": "text/x-python",
   "name": "python",
   "nbconvert_exporter": "python",
   "pygments_lexer": "ipython3",
   "version": "3.7.3"
  },
  "rise": {
   "scroll": true,
   "theme": "serif",
   "transition": "zoom"
  }
 },
 "nbformat": 4,
 "nbformat_minor": 2
}
