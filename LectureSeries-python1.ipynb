{
 "cells": [
  {
   "cell_type": "markdown",
   "metadata": {
    "slideshow": {
     "slide_type": "slide"
    }
   },
   "source": [
    "# All (Basic) Things Python\n",
    "\n",
    "## Lecture Series: Day 4\n",
    "### Nickalas Reynolds\n",
    "### University of Oklahoma"
   ]
  },
  {
   "cell_type": "markdown",
   "metadata": {
    "slideshow": {
     "slide_type": "slide"
    }
   },
   "source": [
    "# What is Python?\n",
    "---------------------\n",
    "Python is a high-level, dynamically typed, object-oriented, interpreted programming language.  \n",
    " * nowadays, Python is multi-paradigm\n",
    "\n",
    "Uses include:\n",
    " * Web programming (static and dynamic)\n",
    " * CGI scripting\n",
    " * Scripting\n",
    " * Scientific computing\n",
    " * (More recently) Ariticial intelligence."
   ]
  },
  {
   "cell_type": "markdown",
   "metadata": {
    "slideshow": {
     "slide_type": "subslide"
    }
   },
   "source": [
    "## Python is...\n",
    "------------\n",
    "### good at\n",
    "\n",
    " * Readability\n",
    " * Community\n",
    " * Libraries\n",
    " * Scripting\n",
    " * Quick Typing\n",
    "\n",
    "### bad at\n",
    "\n",
    " * Memory Management (non existent)\n",
    " * CPU Load (Difficult)\n",
    " * GIL (multiprocessing vs multithreading)\n",
    "\n",
    "### Version\n",
    " * Python 3.7 is current (USE THIS)\n",
    " * Python 2.7 is what a lot of old code uses\n",
    " * 3.x introduced more Pythonic and memory efficient methods"
   ]
  },
  {
   "cell_type": "markdown",
   "metadata": {
    "slideshow": {
     "slide_type": "subslide"
    }
   },
   "source": [
    "### Pip\n",
    "Python package manager.\n",
    "If pip exists in root (`which pip`) then need root access to use!\n",
    "Go over Monday's Lecture for local installations.\n",
    " * search X\n",
    " * install X\n",
    " * uninstall X\n",
    " * show X\n",
    "Packages I suggest:\n",
    " * cython, mathplotlib, ipython, jupyter, numpy, scipy, sklearn, emcee"
   ]
  },
  {
   "cell_type": "markdown",
   "metadata": {
    "slideshow": {
     "slide_type": "slide"
    }
   },
   "source": [
    "# Hello World\n",
    "----\n",
    "The first thing in any programming language is to write \"Hello World!\""
   ]
  },
  {
   "cell_type": "code",
   "execution_count": 1,
   "metadata": {
    "slideshow": {
     "slide_type": "subslide"
    }
   },
   "outputs": [
    {
     "name": "stdout",
     "output_type": "stream",
     "text": [
      "Hello World!\n"
     ]
    }
   ],
   "source": [
    "message = \"Hello World!\"\n",
    "print(message)"
   ]
  },
  {
   "cell_type": "code",
   "execution_count": 2,
   "metadata": {
    "slideshow": {
     "slide_type": "subslide"
    }
   },
   "outputs": [
    {
     "name": "stdout",
     "output_type": "stream",
     "text": [
      "Hello World!\n"
     ]
    }
   ],
   "source": [
    "print(\"Hello World!\")"
   ]
  },
  {
   "cell_type": "markdown",
   "metadata": {
    "slideshow": {
     "slide_type": "slide"
    }
   },
   "source": [
    "# Types\n",
    "----\n",
    "Python requires a working knowledge of simple data types like strings and numbers. Numbers can be broken down into two categories that are very similar in function: integers (int) and floating point numbers (float). We can use variables to store values.\n",
    "\n",
    "Common types in base python are: \n",
    " * int\n",
    " * float\n",
    " * str\n",
    " * list\n",
    " * dict\n",
    " * tuple\n",
    " * sets\n",
    " * generators\n",
    " * function\n",
    " * class"
   ]
  },
  {
   "cell_type": "code",
   "execution_count": 3,
   "metadata": {
    "slideshow": {
     "slide_type": "subslide"
    }
   },
   "outputs": [
    {
     "name": "stdout",
     "output_type": "stream",
     "text": [
      "10 <class 'int'>\n",
      "10.0 <class 'float'>\n"
     ]
    }
   ],
   "source": [
    "x = 10\n",
    "print(x,type(x))\n",
    "x = 10.\n",
    "print(x,type(x))"
   ]
  },
  {
   "cell_type": "code",
   "execution_count": 4,
   "metadata": {
    "slideshow": {
     "slide_type": "subslide"
    }
   },
   "outputs": [
    {
     "name": "stdout",
     "output_type": "stream",
     "text": [
      "[0, 1, 2, 3] <class 'list'>\n",
      "(0, 1, 2, 3) <class 'tuple'>\n",
      "{0, 1} <class 'set'>\n",
      "<function <lambda> at 0x7f78e4507378> <class 'function'>\n",
      "11 <class 'int'>\n"
     ]
    }
   ],
   "source": [
    "x = [0,1,2,3]\n",
    "print(x,type(x))\n",
    "x = (0,1,2,3)\n",
    "print(x,type(x))\n",
    "x = set([0,1,1])\n",
    "print(x,type(x))\n",
    "x = (lambda x: x + 1)\n",
    "print(x,type(x))\n",
    "print(x(10), type(x(10)))"
   ]
  },
  {
   "cell_type": "markdown",
   "metadata": {
    "slideshow": {
     "slide_type": "slide"
    }
   },
   "source": [
    "# Lists and Tuple\n",
    "---\n",
    "Lists are also a crucial data type. A list is a collection of objects in a particular order. Unlike other array-like data structures you might see in other languages, the items in a Python list do not have to be related and are also mutable. \n",
    "\n",
    "Square brackets are used to indicate a list while parenthesis are used to denote tuple. Here we will create a list of strings:"
   ]
  },
  {
   "cell_type": "code",
   "execution_count": 5,
   "metadata": {
    "slideshow": {
     "slide_type": "subslide"
    }
   },
   "outputs": [
    {
     "name": "stdout",
     "output_type": "stream",
     "text": [
      "['eggs', 'milk', 'cheese', 'breadloaf', 0] <class 'list'>\n",
      "eggs\n"
     ]
    }
   ],
   "source": [
    "groceries = ['eggs', \n",
    "             'milk', \n",
    "             'cheese', \n",
    "             'breadloaf']\n",
    "\n",
    "groceries.append(0)\n",
    "\n",
    "print(groceries,type(groceries))\n",
    "print(groceries[0]) # indexing starts at 0\n",
    "# print(groceries[5]) # raises error"
   ]
  },
  {
   "cell_type": "code",
   "execution_count": 6,
   "metadata": {
    "slideshow": {
     "slide_type": "subslide"
    }
   },
   "outputs": [
    {
     "name": "stdout",
     "output_type": "stream",
     "text": [
      "(100, 500, 300, 150) <class 'tuple'>\n",
      "4 150\n"
     ]
    }
   ],
   "source": [
    "# parenthesis are used to denote tuple\n",
    "# much faster and more memory efficient\n",
    "# immutable\n",
    "money = (100,500,300,150)\n",
    "print(money,type(money))\n",
    "print(len(money),money[3])\n",
    "# money.append(1000) # raises an error"
   ]
  },
  {
   "cell_type": "markdown",
   "metadata": {
    "slideshow": {
     "slide_type": "slide"
    }
   },
   "source": [
    "# List Slicing\n",
    "---\n",
    "List slicing is a mechanic which allows one to access multiple elements at once."
   ]
  },
  {
   "cell_type": "code",
   "execution_count": 7,
   "metadata": {
    "slideshow": {
     "slide_type": "subslide"
    }
   },
   "outputs": [
    {
     "name": "stdout",
     "output_type": "stream",
     "text": [
      "0\n",
      "['eggs', 'milk']\n",
      "['eggs', 'breadloaf']\n",
      "['eggs', 'milk', 'cheese', 'breadloaf', 0]\n",
      "[0, 'breadloaf', 'cheese', 'milk', 'eggs']\n"
     ]
    }
   ],
   "source": [
    "print(groceries[-1])\n",
    "print(groceries[0:2])\n",
    "print(groceries[0::3])\n",
    "print(groceries[:])\n",
    "print(groceries[::-1])"
   ]
  },
  {
   "cell_type": "markdown",
   "metadata": {
    "slideshow": {
     "slide_type": "slide"
    }
   },
   "source": [
    "# Dictionary\n",
    "---\n",
    "Easy to access:\n",
    " * key-value pairs. \n",
    " * keys are unique\n",
    " * values can be anything (even other dictionaries and objects)\n",
    "\n",
    "Dictionaries are good for modeling objects with different types of data."
   ]
  },
  {
   "cell_type": "code",
   "execution_count": 8,
   "metadata": {
    "slideshow": {
     "slide_type": "subslide"
    }
   },
   "outputs": [
    {
     "name": "stdout",
     "output_type": "stream",
     "text": [
      "dict_keys(['color', 'money', 'clothes', 'job', 'pay'])\n",
      "red\n",
      "5\n",
      "['hat', 'shirt', 'alien-pants']\n"
     ]
    }
   ],
   "source": [
    "alien = {'color'  :'green',\n",
    "         'money'  :5,\n",
    "         'clothes':['hat','shirt','alien-pants'],\n",
    "         'color'  :'red',\n",
    "         'job'    : ('abductor','400 schmeckles'),\n",
    "         'pay'    : (lambda x: x + 400)}\n",
    "\n",
    "print(alien.keys())\n",
    "print(alien['color'])\n",
    "print(alien['money'])\n",
    "print(alien['clothes'])"
   ]
  },
  {
   "cell_type": "markdown",
   "metadata": {
    "slideshow": {
     "slide_type": "slide"
    }
   },
   "source": [
    "# Arithmetic"
   ]
  },
  {
   "cell_type": "code",
   "execution_count": 9,
   "metadata": {
    "slideshow": {
     "slide_type": "subslide"
    }
   },
   "outputs": [
    {
     "name": "stdout",
     "output_type": "stream",
     "text": [
      "6.2831853\n",
      "16\n",
      "16.0\n",
      "Once TwiceTwice ThriceThriceThrice\n"
     ]
    }
   ],
   "source": [
    "print(2. * (3 + 0.14 + 0.00159265))\n",
    "print(2**4)\n",
    "print(2.**4)\n",
    "print('Once' * 1, 'Twice' * 2, 'Thrice' * 3)"
   ]
  },
  {
   "cell_type": "markdown",
   "metadata": {
    "slideshow": {
     "slide_type": "slide"
    }
   },
   "source": [
    "# Loops and Expressions\n",
    "---\n",
    "if Statements and loops are handled as they are in other languages, but the particular syntax is given below.\n",
    "\n",
    "One thing to remember is that the expressions observed in if statements and while loops boil down to either True or False. for loops will loop through iterables (lists, tuples, numpy arrays, etc.)."
   ]
  },
  {
   "cell_type": "code",
   "execution_count": 10,
   "metadata": {
    "slideshow": {
     "slide_type": "subslide"
    }
   },
   "outputs": [
    {
     "name": "stdout",
     "output_type": "stream",
     "text": [
      "0\n",
      "Changing x from 1 to 0\n",
      "['eggs', 'milk', 'cheese', 'breadloaf', 0]\n",
      "Shopping List:\n",
      "* eggs\n",
      "* milk\n",
      "* cheese\n",
      "* breadloaf\n",
      "Found non string..: 0\n"
     ]
    }
   ],
   "source": [
    "# if structure\n",
    "x = 0\n",
    "if x == 0:\n",
    "    print(x)\n",
    "    x = 1\n",
    "elif x == 1:\n",
    "    print(x)\n",
    "else:\n",
    "    print('not true!')\n",
    "\n",
    "# x =1 \n",
    "# while structure\n",
    "while x != 0:\n",
    "    print('Changing x from {} to {}'.format(x,0))\n",
    "    x = 0\n",
    "    \n",
    "# for loops\n",
    "print(groceries)\n",
    "print('Shopping List:')\n",
    "for food in groceries:\n",
    "    if type(food) != str:\n",
    "        print('Found non string..:',food)\n",
    "        break\n",
    "    print('*',food)"
   ]
  },
  {
   "cell_type": "markdown",
   "metadata": {
    "slideshow": {
     "slide_type": "slide"
    }
   },
   "source": [
    "# try/except/else/finally\n",
    "---\n",
    "Try blocks allow temporary execution of code blocks until a break point or passing. If a break or error is thrown, the compiler moves forward to the exception blocks which handle their respective errors. Iff the try block executes without error, it passes into the else block. The finally block is always accessed"
   ]
  },
  {
   "cell_type": "code",
   "execution_count": 11,
   "metadata": {
    "slideshow": {
     "slide_type": "subslide"
    }
   },
   "outputs": [
    {
     "name": "stdout",
     "output_type": "stream",
     "text": [
      "Found Error\n",
      "Finished with everything\n",
      "11.899999999999999 11.9\n"
     ]
    }
   ],
   "source": [
    "def compare(a,b):\n",
    "    assert a == b\n",
    "\n",
    "# rounding error\n",
    "try:\n",
    "    x = 2 * 1.4 + 10.1 - 1 \n",
    "    y = 11.9\n",
    "    compare(x,y)\n",
    "except:\n",
    "    print('Found Error')\n",
    "else:\n",
    "    print('No Errors')\n",
    "finally:\n",
    "    print('Finished with everything')\n",
    "print(x,y)"
   ]
  },
  {
   "cell_type": "markdown",
   "metadata": {
    "slideshow": {
     "slide_type": "slide"
    }
   },
   "source": [
    "# Functions\n",
    "---\n",
    "Functions are named blocks of code. Once defined, they are called to execute their task. Functions are used when a particular task needs to be performed repeatedly. Functions make code easier to write, read, test, and fix."
   ]
  },
  {
   "cell_type": "code",
   "execution_count": 12,
   "metadata": {
    "slideshow": {
     "slide_type": "subslide"
    }
   },
   "outputs": [
    {
     "name": "stdout",
     "output_type": "stream",
     "text": [
      "25\n",
      "50\n",
      "2500\n",
      "50\n",
      "2500\n"
     ]
    }
   ],
   "source": [
    "# squares inside\n",
    "a = 50\n",
    "def peter(y=1,x=50):\n",
    "    '''\n",
    "    Multi line comments are allow more or less anywhere in python\n",
    "    This function takes an argument x and returns the square\n",
    "    If x not given, will return the default set of 5**2\n",
    "    '''\n",
    "    a = 10\n",
    "    return x*x # equivalent to do x**2\n",
    "\n",
    "# calling the function\n",
    "print(peter(1j,5)) # j is complex\n",
    "a = 50\n",
    "print(a) \n",
    "print(peter(2))\n",
    "print(a) # notice prints the global a not relative\n",
    "print(peter())"
   ]
  },
  {
   "cell_type": "markdown",
   "metadata": {
    "slideshow": {
     "slide_type": "slide"
    }
   },
   "source": [
    "## Slightly more complex Functions\n",
    "------------\n",
    "These functions not everyone uses but are extremely helpful"
   ]
  },
  {
   "cell_type": "code",
   "execution_count": 13,
   "metadata": {
    "slideshow": {
     "slide_type": "subslide"
    }
   },
   "outputs": [
    {
     "name": "stdout",
     "output_type": "stream",
     "text": [
      "[3, 6, 9]\n",
      "Object: <function <lambda> at 0x7f78e4507d90>  With value at 3: 0\n",
      "4\n",
      "Object: <filter object at 0x7f78e44ce320>  With value: [3, 6, 9]\n",
      "Object: <filter object at 0x7f78e44ce320>  With value: []\n",
      "Object: <map object at 0x7f78e44ce518>  With value: ['3', '6', '9']\n"
     ]
    }
   ],
   "source": [
    "# list comprehension\n",
    "mod3 = [x for x in [1, 2, 3, 4, 5, 6, 7, 8, 9] if x % 3 == 0]\n",
    "print(mod3)\n",
    "\n",
    "# Lambda\n",
    "a = (lambda x: x % 3)\n",
    "print('Object:',a,' With value at 3:',a(3)) # returns modulo 3\n",
    "\n",
    "# why use lambda? Memory efficiency trade for runtime\n",
    "def transform(n):\n",
    "    return lambda x: x + n\n",
    "f = transform(3)\n",
    "print(f(1))\n",
    "\n",
    "# filter\n",
    "mod3 = filter(lambda x: x % 3 == 0, [1, 2, 3, 4, 5, 6, 7, 8, 9])\n",
    "print('Object:',mod3,' With value:',list(mod3))\n",
    "print('Object:',mod3,' With value:',list(mod3))\n",
    "\n",
    "# maps\n",
    "mod3 = map(str,filter(lambda x: x % 3 == 0, [1, 2, 3, 4, 5, 6, 7, 8, 9]))\n",
    "print('Object:',mod3,' With value:',list(mod3))"
   ]
  },
  {
   "cell_type": "markdown",
   "metadata": {
    "slideshow": {
     "slide_type": "slide"
    }
   },
   "source": [
    "## List Arguments\n",
    "---\n",
    "Namespace\n",
    "* Variables nested in functions are protected\n",
    "\n",
    "Pointer Passing:\n",
    " * Lists that are passed to a function can change inside that function\n",
    "   * even if a different variable name is used\n",
    " * Similar to pointer passing in C\n",
    "   * You have to make a deliberate copy to have non destructive passing"
   ]
  },
  {
   "cell_type": "code",
   "execution_count": 14,
   "metadata": {
    "slideshow": {
     "slide_type": "subslide"
    }
   },
   "outputs": [
    {
     "name": "stdout",
     "output_type": "stream",
     "text": [
      "[10, 12, 23]\n",
      "[10, 12, 23]\n",
      "[10, 12, 23, 0]\n",
      "[10, 12, 23, 0]\n",
      "[10, 12, 23, 0, 0]\n",
      "[10, 12, 23, 0, 0]\n"
     ]
    }
   ],
   "source": [
    "def mess_with_list(a):\n",
    "    a.append(0)\n",
    "\n",
    "from copy import deepcopy \n",
    "x = [10, 12, 23]\n",
    "y = x\n",
    "# print x\n",
    "print(x)\n",
    "# copy list and make change\n",
    "mess_with_list(deepcopy(x))\n",
    "print(x)\n",
    "# don't copy and make changes to y\n",
    "mess_with_list(y)\n",
    "print(x)\n",
    "print(y)\n",
    "# dont copy and make changes to x\n",
    "mess_with_list(x)\n",
    "print(x)\n",
    "print(y)"
   ]
  },
  {
   "cell_type": "markdown",
   "metadata": {
    "slideshow": {
     "slide_type": "slide"
    }
   },
   "source": [
    "## Unpacking python\n",
    "---\n",
    "Functions are flexible in return types.\n",
    " * You can return anything, even other functions\n",
    " * Supports multi-value return\n",
    "   * Separate by comma. This returns a tuple"
   ]
  },
  {
   "cell_type": "code",
   "execution_count": 15,
   "metadata": {
    "slideshow": {
     "slide_type": "subslide"
    }
   },
   "outputs": [
    {
     "name": "stdout",
     "output_type": "stream",
     "text": [
      "0 1 2\n",
      "(0, 1, 2, 3, 4)\n"
     ]
    }
   ],
   "source": [
    "def first3():\n",
    "    return 0,1,2,3,4\n",
    "\n",
    "zero, one, two = first3()[0:3]\n",
    "tup = first3()\n",
    "\n",
    "print(zero, one, two)\n",
    "print(tup)\n",
    "# raises an error!\n",
    "# tup[0] = 4"
   ]
  },
  {
   "cell_type": "markdown",
   "metadata": {
    "slideshow": {
     "slide_type": "slide"
    }
   },
   "source": [
    "# External Libraries\n",
    "---\n",
    "This lecture will highlight a few packages: `numpy and matplotlib`. These packages are in many ways the canonical libraries for their respective functions.\n",
    "\n",
    "I suggest taking a look at:\n",
    "ext packages: `jupyter, emcee, scipy, sklearn, and asyncio`\n",
    "int packages: `ipython, pickle, csv, json, math, datetime, re, os, sys, mutli(processing/threading)`"
   ]
  },
  {
   "cell_type": "markdown",
   "metadata": {
    "slideshow": {
     "slide_type": "subslide"
    }
   },
   "source": [
    "### Numpy\n",
    "Speed:\n",
    " * Numpy's speed comes from its vectorized operations, namely during arithmetic.\n",
    " * Short of writing in C (or cython), numpys operations are as fast as python can be\n",
    "\n",
    "First: \n",
    " * `import numpy` and `a`lia`s` `np`. \n",
    "\n",
    "Next we called NumPy's array function with a list of integers as an argument and a numpy array was returned. Note what happens when we try to change one of the elements."
   ]
  },
  {
   "cell_type": "code",
   "execution_count": 16,
   "metadata": {
    "slideshow": {
     "slide_type": "subslide"
    }
   },
   "outputs": [
    {
     "name": "stdout",
     "output_type": "stream",
     "text": [
      "[0 1 2 3 4] <class 'numpy.ndarray'>\n",
      "[10  1  2  3  4]\n"
     ]
    }
   ],
   "source": [
    "import numpy as np\n",
    "\n",
    "a = np.array([0, 1, 2, 3, 4])\n",
    "print(a,type(a))\n",
    "a[0] = 10\n",
    "print(a)\n",
    "# raises an error!\n",
    "# a[0] = 'fish'"
   ]
  },
  {
   "cell_type": "markdown",
   "metadata": {
    "slideshow": {
     "slide_type": "subslide"
    }
   },
   "source": [
    "### Matplotlib\n",
    "Matplotlib is the standard plotting library in Python. Simple plots can be generated very quickly. There are plenty of visualization options to make publication-quality graphs. https://matplotlib.org/\n",
    "\n",
    "I used it to create the graph in the previous lecture whose code is provided"
   ]
  },
  {
   "cell_type": "code",
   "execution_count": 17,
   "metadata": {
    "slideshow": {
     "slide_type": "subslide"
    }
   },
   "outputs": [
    {
     "data": {
      "application/javascript": [
       "/* Put everything inside the global mpl namespace */\n",
       "window.mpl = {};\n",
       "\n",
       "\n",
       "mpl.get_websocket_type = function() {\n",
       "    if (typeof(WebSocket) !== 'undefined') {\n",
       "        return WebSocket;\n",
       "    } else if (typeof(MozWebSocket) !== 'undefined') {\n",
       "        return MozWebSocket;\n",
       "    } else {\n",
       "        alert('Your browser does not have WebSocket support.' +\n",
       "              'Please try Chrome, Safari or Firefox ≥ 6. ' +\n",
       "              'Firefox 4 and 5 are also supported but you ' +\n",
       "              'have to enable WebSockets in about:config.');\n",
       "    };\n",
       "}\n",
       "\n",
       "mpl.figure = function(figure_id, websocket, ondownload, parent_element) {\n",
       "    this.id = figure_id;\n",
       "\n",
       "    this.ws = websocket;\n",
       "\n",
       "    this.supports_binary = (this.ws.binaryType != undefined);\n",
       "\n",
       "    if (!this.supports_binary) {\n",
       "        var warnings = document.getElementById(\"mpl-warnings\");\n",
       "        if (warnings) {\n",
       "            warnings.style.display = 'block';\n",
       "            warnings.textContent = (\n",
       "                \"This browser does not support binary websocket messages. \" +\n",
       "                    \"Performance may be slow.\");\n",
       "        }\n",
       "    }\n",
       "\n",
       "    this.imageObj = new Image();\n",
       "\n",
       "    this.context = undefined;\n",
       "    this.message = undefined;\n",
       "    this.canvas = undefined;\n",
       "    this.rubberband_canvas = undefined;\n",
       "    this.rubberband_context = undefined;\n",
       "    this.format_dropdown = undefined;\n",
       "\n",
       "    this.image_mode = 'full';\n",
       "\n",
       "    this.root = $('<div/>');\n",
       "    this._root_extra_style(this.root)\n",
       "    this.root.attr('style', 'display: inline-block');\n",
       "\n",
       "    $(parent_element).append(this.root);\n",
       "\n",
       "    this._init_header(this);\n",
       "    this._init_canvas(this);\n",
       "    this._init_toolbar(this);\n",
       "\n",
       "    var fig = this;\n",
       "\n",
       "    this.waiting = false;\n",
       "\n",
       "    this.ws.onopen =  function () {\n",
       "            fig.send_message(\"supports_binary\", {value: fig.supports_binary});\n",
       "            fig.send_message(\"send_image_mode\", {});\n",
       "            if (mpl.ratio != 1) {\n",
       "                fig.send_message(\"set_dpi_ratio\", {'dpi_ratio': mpl.ratio});\n",
       "            }\n",
       "            fig.send_message(\"refresh\", {});\n",
       "        }\n",
       "\n",
       "    this.imageObj.onload = function() {\n",
       "            if (fig.image_mode == 'full') {\n",
       "                // Full images could contain transparency (where diff images\n",
       "                // almost always do), so we need to clear the canvas so that\n",
       "                // there is no ghosting.\n",
       "                fig.context.clearRect(0, 0, fig.canvas.width, fig.canvas.height);\n",
       "            }\n",
       "            fig.context.drawImage(fig.imageObj, 0, 0);\n",
       "        };\n",
       "\n",
       "    this.imageObj.onunload = function() {\n",
       "        fig.ws.close();\n",
       "    }\n",
       "\n",
       "    this.ws.onmessage = this._make_on_message_function(this);\n",
       "\n",
       "    this.ondownload = ondownload;\n",
       "}\n",
       "\n",
       "mpl.figure.prototype._init_header = function() {\n",
       "    var titlebar = $(\n",
       "        '<div class=\"ui-dialog-titlebar ui-widget-header ui-corner-all ' +\n",
       "        'ui-helper-clearfix\"/>');\n",
       "    var titletext = $(\n",
       "        '<div class=\"ui-dialog-title\" style=\"width: 100%; ' +\n",
       "        'text-align: center; padding: 3px;\"/>');\n",
       "    titlebar.append(titletext)\n",
       "    this.root.append(titlebar);\n",
       "    this.header = titletext[0];\n",
       "}\n",
       "\n",
       "\n",
       "\n",
       "mpl.figure.prototype._canvas_extra_style = function(canvas_div) {\n",
       "\n",
       "}\n",
       "\n",
       "\n",
       "mpl.figure.prototype._root_extra_style = function(canvas_div) {\n",
       "\n",
       "}\n",
       "\n",
       "mpl.figure.prototype._init_canvas = function() {\n",
       "    var fig = this;\n",
       "\n",
       "    var canvas_div = $('<div/>');\n",
       "\n",
       "    canvas_div.attr('style', 'position: relative; clear: both; outline: 0');\n",
       "\n",
       "    function canvas_keyboard_event(event) {\n",
       "        return fig.key_event(event, event['data']);\n",
       "    }\n",
       "\n",
       "    canvas_div.keydown('key_press', canvas_keyboard_event);\n",
       "    canvas_div.keyup('key_release', canvas_keyboard_event);\n",
       "    this.canvas_div = canvas_div\n",
       "    this._canvas_extra_style(canvas_div)\n",
       "    this.root.append(canvas_div);\n",
       "\n",
       "    var canvas = $('<canvas/>');\n",
       "    canvas.addClass('mpl-canvas');\n",
       "    canvas.attr('style', \"left: 0; top: 0; z-index: 0; outline: 0\")\n",
       "\n",
       "    this.canvas = canvas[0];\n",
       "    this.context = canvas[0].getContext(\"2d\");\n",
       "\n",
       "    var backingStore = this.context.backingStorePixelRatio ||\n",
       "\tthis.context.webkitBackingStorePixelRatio ||\n",
       "\tthis.context.mozBackingStorePixelRatio ||\n",
       "\tthis.context.msBackingStorePixelRatio ||\n",
       "\tthis.context.oBackingStorePixelRatio ||\n",
       "\tthis.context.backingStorePixelRatio || 1;\n",
       "\n",
       "    mpl.ratio = (window.devicePixelRatio || 1) / backingStore;\n",
       "\n",
       "    var rubberband = $('<canvas/>');\n",
       "    rubberband.attr('style', \"position: absolute; left: 0; top: 0; z-index: 1;\")\n",
       "\n",
       "    var pass_mouse_events = true;\n",
       "\n",
       "    canvas_div.resizable({\n",
       "        start: function(event, ui) {\n",
       "            pass_mouse_events = false;\n",
       "        },\n",
       "        resize: function(event, ui) {\n",
       "            fig.request_resize(ui.size.width, ui.size.height);\n",
       "        },\n",
       "        stop: function(event, ui) {\n",
       "            pass_mouse_events = true;\n",
       "            fig.request_resize(ui.size.width, ui.size.height);\n",
       "        },\n",
       "    });\n",
       "\n",
       "    function mouse_event_fn(event) {\n",
       "        if (pass_mouse_events)\n",
       "            return fig.mouse_event(event, event['data']);\n",
       "    }\n",
       "\n",
       "    rubberband.mousedown('button_press', mouse_event_fn);\n",
       "    rubberband.mouseup('button_release', mouse_event_fn);\n",
       "    // Throttle sequential mouse events to 1 every 20ms.\n",
       "    rubberband.mousemove('motion_notify', mouse_event_fn);\n",
       "\n",
       "    rubberband.mouseenter('figure_enter', mouse_event_fn);\n",
       "    rubberband.mouseleave('figure_leave', mouse_event_fn);\n",
       "\n",
       "    canvas_div.on(\"wheel\", function (event) {\n",
       "        event = event.originalEvent;\n",
       "        event['data'] = 'scroll'\n",
       "        if (event.deltaY < 0) {\n",
       "            event.step = 1;\n",
       "        } else {\n",
       "            event.step = -1;\n",
       "        }\n",
       "        mouse_event_fn(event);\n",
       "    });\n",
       "\n",
       "    canvas_div.append(canvas);\n",
       "    canvas_div.append(rubberband);\n",
       "\n",
       "    this.rubberband = rubberband;\n",
       "    this.rubberband_canvas = rubberband[0];\n",
       "    this.rubberband_context = rubberband[0].getContext(\"2d\");\n",
       "    this.rubberband_context.strokeStyle = \"#000000\";\n",
       "\n",
       "    this._resize_canvas = function(width, height) {\n",
       "        // Keep the size of the canvas, canvas container, and rubber band\n",
       "        // canvas in synch.\n",
       "        canvas_div.css('width', width)\n",
       "        canvas_div.css('height', height)\n",
       "\n",
       "        canvas.attr('width', width * mpl.ratio);\n",
       "        canvas.attr('height', height * mpl.ratio);\n",
       "        canvas.attr('style', 'width: ' + width + 'px; height: ' + height + 'px;');\n",
       "\n",
       "        rubberband.attr('width', width);\n",
       "        rubberband.attr('height', height);\n",
       "    }\n",
       "\n",
       "    // Set the figure to an initial 600x600px, this will subsequently be updated\n",
       "    // upon first draw.\n",
       "    this._resize_canvas(600, 600);\n",
       "\n",
       "    // Disable right mouse context menu.\n",
       "    $(this.rubberband_canvas).bind(\"contextmenu\",function(e){\n",
       "        return false;\n",
       "    });\n",
       "\n",
       "    function set_focus () {\n",
       "        canvas.focus();\n",
       "        canvas_div.focus();\n",
       "    }\n",
       "\n",
       "    window.setTimeout(set_focus, 100);\n",
       "}\n",
       "\n",
       "mpl.figure.prototype._init_toolbar = function() {\n",
       "    var fig = this;\n",
       "\n",
       "    var nav_element = $('<div/>')\n",
       "    nav_element.attr('style', 'width: 100%');\n",
       "    this.root.append(nav_element);\n",
       "\n",
       "    // Define a callback function for later on.\n",
       "    function toolbar_event(event) {\n",
       "        return fig.toolbar_button_onclick(event['data']);\n",
       "    }\n",
       "    function toolbar_mouse_event(event) {\n",
       "        return fig.toolbar_button_onmouseover(event['data']);\n",
       "    }\n",
       "\n",
       "    for(var toolbar_ind in mpl.toolbar_items) {\n",
       "        var name = mpl.toolbar_items[toolbar_ind][0];\n",
       "        var tooltip = mpl.toolbar_items[toolbar_ind][1];\n",
       "        var image = mpl.toolbar_items[toolbar_ind][2];\n",
       "        var method_name = mpl.toolbar_items[toolbar_ind][3];\n",
       "\n",
       "        if (!name) {\n",
       "            // put a spacer in here.\n",
       "            continue;\n",
       "        }\n",
       "        var button = $('<button/>');\n",
       "        button.addClass('ui-button ui-widget ui-state-default ui-corner-all ' +\n",
       "                        'ui-button-icon-only');\n",
       "        button.attr('role', 'button');\n",
       "        button.attr('aria-disabled', 'false');\n",
       "        button.click(method_name, toolbar_event);\n",
       "        button.mouseover(tooltip, toolbar_mouse_event);\n",
       "\n",
       "        var icon_img = $('<span/>');\n",
       "        icon_img.addClass('ui-button-icon-primary ui-icon');\n",
       "        icon_img.addClass(image);\n",
       "        icon_img.addClass('ui-corner-all');\n",
       "\n",
       "        var tooltip_span = $('<span/>');\n",
       "        tooltip_span.addClass('ui-button-text');\n",
       "        tooltip_span.html(tooltip);\n",
       "\n",
       "        button.append(icon_img);\n",
       "        button.append(tooltip_span);\n",
       "\n",
       "        nav_element.append(button);\n",
       "    }\n",
       "\n",
       "    var fmt_picker_span = $('<span/>');\n",
       "\n",
       "    var fmt_picker = $('<select/>');\n",
       "    fmt_picker.addClass('mpl-toolbar-option ui-widget ui-widget-content');\n",
       "    fmt_picker_span.append(fmt_picker);\n",
       "    nav_element.append(fmt_picker_span);\n",
       "    this.format_dropdown = fmt_picker[0];\n",
       "\n",
       "    for (var ind in mpl.extensions) {\n",
       "        var fmt = mpl.extensions[ind];\n",
       "        var option = $(\n",
       "            '<option/>', {selected: fmt === mpl.default_extension}).html(fmt);\n",
       "        fmt_picker.append(option)\n",
       "    }\n",
       "\n",
       "    // Add hover states to the ui-buttons\n",
       "    $( \".ui-button\" ).hover(\n",
       "        function() { $(this).addClass(\"ui-state-hover\");},\n",
       "        function() { $(this).removeClass(\"ui-state-hover\");}\n",
       "    );\n",
       "\n",
       "    var status_bar = $('<span class=\"mpl-message\"/>');\n",
       "    nav_element.append(status_bar);\n",
       "    this.message = status_bar[0];\n",
       "}\n",
       "\n",
       "mpl.figure.prototype.request_resize = function(x_pixels, y_pixels) {\n",
       "    // Request matplotlib to resize the figure. Matplotlib will then trigger a resize in the client,\n",
       "    // which will in turn request a refresh of the image.\n",
       "    this.send_message('resize', {'width': x_pixels, 'height': y_pixels});\n",
       "}\n",
       "\n",
       "mpl.figure.prototype.send_message = function(type, properties) {\n",
       "    properties['type'] = type;\n",
       "    properties['figure_id'] = this.id;\n",
       "    this.ws.send(JSON.stringify(properties));\n",
       "}\n",
       "\n",
       "mpl.figure.prototype.send_draw_message = function() {\n",
       "    if (!this.waiting) {\n",
       "        this.waiting = true;\n",
       "        this.ws.send(JSON.stringify({type: \"draw\", figure_id: this.id}));\n",
       "    }\n",
       "}\n",
       "\n",
       "\n",
       "mpl.figure.prototype.handle_save = function(fig, msg) {\n",
       "    var format_dropdown = fig.format_dropdown;\n",
       "    var format = format_dropdown.options[format_dropdown.selectedIndex].value;\n",
       "    fig.ondownload(fig, format);\n",
       "}\n",
       "\n",
       "\n",
       "mpl.figure.prototype.handle_resize = function(fig, msg) {\n",
       "    var size = msg['size'];\n",
       "    if (size[0] != fig.canvas.width || size[1] != fig.canvas.height) {\n",
       "        fig._resize_canvas(size[0], size[1]);\n",
       "        fig.send_message(\"refresh\", {});\n",
       "    };\n",
       "}\n",
       "\n",
       "mpl.figure.prototype.handle_rubberband = function(fig, msg) {\n",
       "    var x0 = msg['x0'] / mpl.ratio;\n",
       "    var y0 = (fig.canvas.height - msg['y0']) / mpl.ratio;\n",
       "    var x1 = msg['x1'] / mpl.ratio;\n",
       "    var y1 = (fig.canvas.height - msg['y1']) / mpl.ratio;\n",
       "    x0 = Math.floor(x0) + 0.5;\n",
       "    y0 = Math.floor(y0) + 0.5;\n",
       "    x1 = Math.floor(x1) + 0.5;\n",
       "    y1 = Math.floor(y1) + 0.5;\n",
       "    var min_x = Math.min(x0, x1);\n",
       "    var min_y = Math.min(y0, y1);\n",
       "    var width = Math.abs(x1 - x0);\n",
       "    var height = Math.abs(y1 - y0);\n",
       "\n",
       "    fig.rubberband_context.clearRect(\n",
       "        0, 0, fig.canvas.width, fig.canvas.height);\n",
       "\n",
       "    fig.rubberband_context.strokeRect(min_x, min_y, width, height);\n",
       "}\n",
       "\n",
       "mpl.figure.prototype.handle_figure_label = function(fig, msg) {\n",
       "    // Updates the figure title.\n",
       "    fig.header.textContent = msg['label'];\n",
       "}\n",
       "\n",
       "mpl.figure.prototype.handle_cursor = function(fig, msg) {\n",
       "    var cursor = msg['cursor'];\n",
       "    switch(cursor)\n",
       "    {\n",
       "    case 0:\n",
       "        cursor = 'pointer';\n",
       "        break;\n",
       "    case 1:\n",
       "        cursor = 'default';\n",
       "        break;\n",
       "    case 2:\n",
       "        cursor = 'crosshair';\n",
       "        break;\n",
       "    case 3:\n",
       "        cursor = 'move';\n",
       "        break;\n",
       "    }\n",
       "    fig.rubberband_canvas.style.cursor = cursor;\n",
       "}\n",
       "\n",
       "mpl.figure.prototype.handle_message = function(fig, msg) {\n",
       "    fig.message.textContent = msg['message'];\n",
       "}\n",
       "\n",
       "mpl.figure.prototype.handle_draw = function(fig, msg) {\n",
       "    // Request the server to send over a new figure.\n",
       "    fig.send_draw_message();\n",
       "}\n",
       "\n",
       "mpl.figure.prototype.handle_image_mode = function(fig, msg) {\n",
       "    fig.image_mode = msg['mode'];\n",
       "}\n",
       "\n",
       "mpl.figure.prototype.updated_canvas_event = function() {\n",
       "    // Called whenever the canvas gets updated.\n",
       "    this.send_message(\"ack\", {});\n",
       "}\n",
       "\n",
       "// A function to construct a web socket function for onmessage handling.\n",
       "// Called in the figure constructor.\n",
       "mpl.figure.prototype._make_on_message_function = function(fig) {\n",
       "    return function socket_on_message(evt) {\n",
       "        if (evt.data instanceof Blob) {\n",
       "            /* FIXME: We get \"Resource interpreted as Image but\n",
       "             * transferred with MIME type text/plain:\" errors on\n",
       "             * Chrome.  But how to set the MIME type?  It doesn't seem\n",
       "             * to be part of the websocket stream */\n",
       "            evt.data.type = \"image/png\";\n",
       "\n",
       "            /* Free the memory for the previous frames */\n",
       "            if (fig.imageObj.src) {\n",
       "                (window.URL || window.webkitURL).revokeObjectURL(\n",
       "                    fig.imageObj.src);\n",
       "            }\n",
       "\n",
       "            fig.imageObj.src = (window.URL || window.webkitURL).createObjectURL(\n",
       "                evt.data);\n",
       "            fig.updated_canvas_event();\n",
       "            fig.waiting = false;\n",
       "            return;\n",
       "        }\n",
       "        else if (typeof evt.data === 'string' && evt.data.slice(0, 21) == \"data:image/png;base64\") {\n",
       "            fig.imageObj.src = evt.data;\n",
       "            fig.updated_canvas_event();\n",
       "            fig.waiting = false;\n",
       "            return;\n",
       "        }\n",
       "\n",
       "        var msg = JSON.parse(evt.data);\n",
       "        var msg_type = msg['type'];\n",
       "\n",
       "        // Call the  \"handle_{type}\" callback, which takes\n",
       "        // the figure and JSON message as its only arguments.\n",
       "        try {\n",
       "            var callback = fig[\"handle_\" + msg_type];\n",
       "        } catch (e) {\n",
       "            console.log(\"No handler for the '\" + msg_type + \"' message type: \", msg);\n",
       "            return;\n",
       "        }\n",
       "\n",
       "        if (callback) {\n",
       "            try {\n",
       "                // console.log(\"Handling '\" + msg_type + \"' message: \", msg);\n",
       "                callback(fig, msg);\n",
       "            } catch (e) {\n",
       "                console.log(\"Exception inside the 'handler_\" + msg_type + \"' callback:\", e, e.stack, msg);\n",
       "            }\n",
       "        }\n",
       "    };\n",
       "}\n",
       "\n",
       "// from http://stackoverflow.com/questions/1114465/getting-mouse-location-in-canvas\n",
       "mpl.findpos = function(e) {\n",
       "    //this section is from http://www.quirksmode.org/js/events_properties.html\n",
       "    var targ;\n",
       "    if (!e)\n",
       "        e = window.event;\n",
       "    if (e.target)\n",
       "        targ = e.target;\n",
       "    else if (e.srcElement)\n",
       "        targ = e.srcElement;\n",
       "    if (targ.nodeType == 3) // defeat Safari bug\n",
       "        targ = targ.parentNode;\n",
       "\n",
       "    // jQuery normalizes the pageX and pageY\n",
       "    // pageX,Y are the mouse positions relative to the document\n",
       "    // offset() returns the position of the element relative to the document\n",
       "    var x = e.pageX - $(targ).offset().left;\n",
       "    var y = e.pageY - $(targ).offset().top;\n",
       "\n",
       "    return {\"x\": x, \"y\": y};\n",
       "};\n",
       "\n",
       "/*\n",
       " * return a copy of an object with only non-object keys\n",
       " * we need this to avoid circular references\n",
       " * http://stackoverflow.com/a/24161582/3208463\n",
       " */\n",
       "function simpleKeys (original) {\n",
       "  return Object.keys(original).reduce(function (obj, key) {\n",
       "    if (typeof original[key] !== 'object')\n",
       "        obj[key] = original[key]\n",
       "    return obj;\n",
       "  }, {});\n",
       "}\n",
       "\n",
       "mpl.figure.prototype.mouse_event = function(event, name) {\n",
       "    var canvas_pos = mpl.findpos(event)\n",
       "\n",
       "    if (name === 'button_press')\n",
       "    {\n",
       "        this.canvas.focus();\n",
       "        this.canvas_div.focus();\n",
       "    }\n",
       "\n",
       "    var x = canvas_pos.x * mpl.ratio;\n",
       "    var y = canvas_pos.y * mpl.ratio;\n",
       "\n",
       "    this.send_message(name, {x: x, y: y, button: event.button,\n",
       "                             step: event.step,\n",
       "                             guiEvent: simpleKeys(event)});\n",
       "\n",
       "    /* This prevents the web browser from automatically changing to\n",
       "     * the text insertion cursor when the button is pressed.  We want\n",
       "     * to control all of the cursor setting manually through the\n",
       "     * 'cursor' event from matplotlib */\n",
       "    event.preventDefault();\n",
       "    return false;\n",
       "}\n",
       "\n",
       "mpl.figure.prototype._key_event_extra = function(event, name) {\n",
       "    // Handle any extra behaviour associated with a key event\n",
       "}\n",
       "\n",
       "mpl.figure.prototype.key_event = function(event, name) {\n",
       "\n",
       "    // Prevent repeat events\n",
       "    if (name == 'key_press')\n",
       "    {\n",
       "        if (event.which === this._key)\n",
       "            return;\n",
       "        else\n",
       "            this._key = event.which;\n",
       "    }\n",
       "    if (name == 'key_release')\n",
       "        this._key = null;\n",
       "\n",
       "    var value = '';\n",
       "    if (event.ctrlKey && event.which != 17)\n",
       "        value += \"ctrl+\";\n",
       "    if (event.altKey && event.which != 18)\n",
       "        value += \"alt+\";\n",
       "    if (event.shiftKey && event.which != 16)\n",
       "        value += \"shift+\";\n",
       "\n",
       "    value += 'k';\n",
       "    value += event.which.toString();\n",
       "\n",
       "    this._key_event_extra(event, name);\n",
       "\n",
       "    this.send_message(name, {key: value,\n",
       "                             guiEvent: simpleKeys(event)});\n",
       "    return false;\n",
       "}\n",
       "\n",
       "mpl.figure.prototype.toolbar_button_onclick = function(name) {\n",
       "    if (name == 'download') {\n",
       "        this.handle_save(this, null);\n",
       "    } else {\n",
       "        this.send_message(\"toolbar_button\", {name: name});\n",
       "    }\n",
       "};\n",
       "\n",
       "mpl.figure.prototype.toolbar_button_onmouseover = function(tooltip) {\n",
       "    this.message.textContent = tooltip;\n",
       "};\n",
       "mpl.toolbar_items = [[\"Home\", \"Reset original view\", \"fa fa-home icon-home\", \"home\"], [\"Back\", \"Back to previous view\", \"fa fa-arrow-left icon-arrow-left\", \"back\"], [\"Forward\", \"Forward to next view\", \"fa fa-arrow-right icon-arrow-right\", \"forward\"], [\"\", \"\", \"\", \"\"], [\"Pan\", \"Pan axes with left mouse, zoom with right\", \"fa fa-arrows icon-move\", \"pan\"], [\"Zoom\", \"Zoom to rectangle\", \"fa fa-square-o icon-check-empty\", \"zoom\"], [\"\", \"\", \"\", \"\"], [\"Download\", \"Download plot\", \"fa fa-floppy-o icon-save\", \"download\"]];\n",
       "\n",
       "mpl.extensions = [\"eps\", \"pdf\", \"png\", \"ps\", \"raw\", \"svg\"];\n",
       "\n",
       "mpl.default_extension = \"png\";var comm_websocket_adapter = function(comm) {\n",
       "    // Create a \"websocket\"-like object which calls the given IPython comm\n",
       "    // object with the appropriate methods. Currently this is a non binary\n",
       "    // socket, so there is still some room for performance tuning.\n",
       "    var ws = {};\n",
       "\n",
       "    ws.close = function() {\n",
       "        comm.close()\n",
       "    };\n",
       "    ws.send = function(m) {\n",
       "        //console.log('sending', m);\n",
       "        comm.send(m);\n",
       "    };\n",
       "    // Register the callback with on_msg.\n",
       "    comm.on_msg(function(msg) {\n",
       "        //console.log('receiving', msg['content']['data'], msg);\n",
       "        // Pass the mpl event to the overridden (by mpl) onmessage function.\n",
       "        ws.onmessage(msg['content']['data'])\n",
       "    });\n",
       "    return ws;\n",
       "}\n",
       "\n",
       "mpl.mpl_figure_comm = function(comm, msg) {\n",
       "    // This is the function which gets called when the mpl process\n",
       "    // starts-up an IPython Comm through the \"matplotlib\" channel.\n",
       "\n",
       "    var id = msg.content.data.id;\n",
       "    // Get hold of the div created by the display call when the Comm\n",
       "    // socket was opened in Python.\n",
       "    var element = $(\"#\" + id);\n",
       "    var ws_proxy = comm_websocket_adapter(comm)\n",
       "\n",
       "    function ondownload(figure, format) {\n",
       "        window.open(figure.imageObj.src);\n",
       "    }\n",
       "\n",
       "    var fig = new mpl.figure(id, ws_proxy,\n",
       "                           ondownload,\n",
       "                           element.get(0));\n",
       "\n",
       "    // Call onopen now - mpl needs it, as it is assuming we've passed it a real\n",
       "    // web socket which is closed, not our websocket->open comm proxy.\n",
       "    ws_proxy.onopen();\n",
       "\n",
       "    fig.parent_element = element.get(0);\n",
       "    fig.cell_info = mpl.find_output_cell(\"<div id='\" + id + \"'></div>\");\n",
       "    if (!fig.cell_info) {\n",
       "        console.error(\"Failed to find cell for figure\", id, fig);\n",
       "        return;\n",
       "    }\n",
       "\n",
       "    var output_index = fig.cell_info[2]\n",
       "    var cell = fig.cell_info[0];\n",
       "\n",
       "};\n",
       "\n",
       "mpl.figure.prototype.handle_close = function(fig, msg) {\n",
       "    var width = fig.canvas.width/mpl.ratio\n",
       "    fig.root.unbind('remove')\n",
       "\n",
       "    // Update the output cell to use the data from the current canvas.\n",
       "    fig.push_to_output();\n",
       "    var dataURL = fig.canvas.toDataURL();\n",
       "    // Re-enable the keyboard manager in IPython - without this line, in FF,\n",
       "    // the notebook keyboard shortcuts fail.\n",
       "    IPython.keyboard_manager.enable()\n",
       "    $(fig.parent_element).html('<img src=\"' + dataURL + '\" width=\"' + width + '\">');\n",
       "    fig.close_ws(fig, msg);\n",
       "}\n",
       "\n",
       "mpl.figure.prototype.close_ws = function(fig, msg){\n",
       "    fig.send_message('closing', msg);\n",
       "    // fig.ws.close()\n",
       "}\n",
       "\n",
       "mpl.figure.prototype.push_to_output = function(remove_interactive) {\n",
       "    // Turn the data on the canvas into data in the output cell.\n",
       "    var width = this.canvas.width/mpl.ratio\n",
       "    var dataURL = this.canvas.toDataURL();\n",
       "    this.cell_info[1]['text/html'] = '<img src=\"' + dataURL + '\" width=\"' + width + '\">';\n",
       "}\n",
       "\n",
       "mpl.figure.prototype.updated_canvas_event = function() {\n",
       "    // Tell IPython that the notebook contents must change.\n",
       "    IPython.notebook.set_dirty(true);\n",
       "    this.send_message(\"ack\", {});\n",
       "    var fig = this;\n",
       "    // Wait a second, then push the new image to the DOM so\n",
       "    // that it is saved nicely (might be nice to debounce this).\n",
       "    setTimeout(function () { fig.push_to_output() }, 1000);\n",
       "}\n",
       "\n",
       "mpl.figure.prototype._init_toolbar = function() {\n",
       "    var fig = this;\n",
       "\n",
       "    var nav_element = $('<div/>')\n",
       "    nav_element.attr('style', 'width: 100%');\n",
       "    this.root.append(nav_element);\n",
       "\n",
       "    // Define a callback function for later on.\n",
       "    function toolbar_event(event) {\n",
       "        return fig.toolbar_button_onclick(event['data']);\n",
       "    }\n",
       "    function toolbar_mouse_event(event) {\n",
       "        return fig.toolbar_button_onmouseover(event['data']);\n",
       "    }\n",
       "\n",
       "    for(var toolbar_ind in mpl.toolbar_items){\n",
       "        var name = mpl.toolbar_items[toolbar_ind][0];\n",
       "        var tooltip = mpl.toolbar_items[toolbar_ind][1];\n",
       "        var image = mpl.toolbar_items[toolbar_ind][2];\n",
       "        var method_name = mpl.toolbar_items[toolbar_ind][3];\n",
       "\n",
       "        if (!name) { continue; };\n",
       "\n",
       "        var button = $('<button class=\"btn btn-default\" href=\"#\" title=\"' + name + '\"><i class=\"fa ' + image + ' fa-lg\"></i></button>');\n",
       "        button.click(method_name, toolbar_event);\n",
       "        button.mouseover(tooltip, toolbar_mouse_event);\n",
       "        nav_element.append(button);\n",
       "    }\n",
       "\n",
       "    // Add the status bar.\n",
       "    var status_bar = $('<span class=\"mpl-message\" style=\"text-align:right; float: right;\"/>');\n",
       "    nav_element.append(status_bar);\n",
       "    this.message = status_bar[0];\n",
       "\n",
       "    // Add the close button to the window.\n",
       "    var buttongrp = $('<div class=\"btn-group inline pull-right\"></div>');\n",
       "    var button = $('<button class=\"btn btn-mini btn-primary\" href=\"#\" title=\"Stop Interaction\"><i class=\"fa fa-power-off icon-remove icon-large\"></i></button>');\n",
       "    button.click(function (evt) { fig.handle_close(fig, {}); } );\n",
       "    button.mouseover('Stop Interaction', toolbar_mouse_event);\n",
       "    buttongrp.append(button);\n",
       "    var titlebar = this.root.find($('.ui-dialog-titlebar'));\n",
       "    titlebar.prepend(buttongrp);\n",
       "}\n",
       "\n",
       "mpl.figure.prototype._root_extra_style = function(el){\n",
       "    var fig = this\n",
       "    el.on(\"remove\", function(){\n",
       "\tfig.close_ws(fig, {});\n",
       "    });\n",
       "}\n",
       "\n",
       "mpl.figure.prototype._canvas_extra_style = function(el){\n",
       "    // this is important to make the div 'focusable\n",
       "    el.attr('tabindex', 0)\n",
       "    // reach out to IPython and tell the keyboard manager to turn it's self\n",
       "    // off when our div gets focus\n",
       "\n",
       "    // location in version 3\n",
       "    if (IPython.notebook.keyboard_manager) {\n",
       "        IPython.notebook.keyboard_manager.register_events(el);\n",
       "    }\n",
       "    else {\n",
       "        // location in version 2\n",
       "        IPython.keyboard_manager.register_events(el);\n",
       "    }\n",
       "\n",
       "}\n",
       "\n",
       "mpl.figure.prototype._key_event_extra = function(event, name) {\n",
       "    var manager = IPython.notebook.keyboard_manager;\n",
       "    if (!manager)\n",
       "        manager = IPython.keyboard_manager;\n",
       "\n",
       "    // Check for shift+enter\n",
       "    if (event.shiftKey && event.which == 13) {\n",
       "        this.canvas_div.blur();\n",
       "        event.shiftKey = false;\n",
       "        // Send a \"J\" for go to next cell\n",
       "        event.which = 74;\n",
       "        event.keyCode = 74;\n",
       "        manager.command_mode();\n",
       "        manager.handle_keydown(event);\n",
       "    }\n",
       "}\n",
       "\n",
       "mpl.figure.prototype.handle_save = function(fig, msg) {\n",
       "    fig.ondownload(fig, null);\n",
       "}\n",
       "\n",
       "\n",
       "mpl.find_output_cell = function(html_output) {\n",
       "    // Return the cell and output element which can be found *uniquely* in the notebook.\n",
       "    // Note - this is a bit hacky, but it is done because the \"notebook_saving.Notebook\"\n",
       "    // IPython event is triggered only after the cells have been serialised, which for\n",
       "    // our purposes (turning an active figure into a static one), is too late.\n",
       "    var cells = IPython.notebook.get_cells();\n",
       "    var ncells = cells.length;\n",
       "    for (var i=0; i<ncells; i++) {\n",
       "        var cell = cells[i];\n",
       "        if (cell.cell_type === 'code'){\n",
       "            for (var j=0; j<cell.output_area.outputs.length; j++) {\n",
       "                var data = cell.output_area.outputs[j];\n",
       "                if (data.data) {\n",
       "                    // IPython >= 3 moved mimebundle to data attribute of output\n",
       "                    data = data.data;\n",
       "                }\n",
       "                if (data['text/html'] == html_output) {\n",
       "                    return [cell, data, j];\n",
       "                }\n",
       "            }\n",
       "        }\n",
       "    }\n",
       "}\n",
       "\n",
       "// Register the function which deals with the matplotlib target/channel.\n",
       "// The kernel may be null if the page has been refreshed.\n",
       "if (IPython.notebook.kernel != null) {\n",
       "    IPython.notebook.kernel.comm_manager.register_target('matplotlib', mpl.mpl_figure_comm);\n",
       "}\n"
      ],
      "text/plain": [
       "<IPython.core.display.Javascript object>"
      ]
     },
     "metadata": {},
     "output_type": "display_data"
    },
    {
     "data": {
      "text/html": [
       "<img src=\"data:image/png;base64,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\" width=\"640\">"
      ],
      "text/plain": [
       "<IPython.core.display.HTML object>"
      ]
     },
     "metadata": {},
     "output_type": "display_data"
    }
   ],
   "source": [
    "%matplotlib notebook\n",
    "import matplotlib.pyplot as plt\n",
    "plt.xlabel(\"Value\")\n",
    "plt.ylabel(\"Squared Value\")\n",
    "plt.suptitle(\"Plot of Squares\")\n",
    "plt.plot(np.arange(11)**2)\n",
    "plt.show()"
   ]
  },
  {
   "cell_type": "markdown",
   "metadata": {
    "slideshow": {
     "slide_type": "slide"
    }
   },
   "source": [
    "# End of Day 4 Lecture"
   ]
  },
  {
   "cell_type": "markdown",
   "metadata": {
    "slideshow": {
     "slide_type": "slide"
    }
   },
   "source": [
    "# Useful things\n",
    "---\n",
    "Ipython (Interactive Python Terminals) and Jupyter can be very helpful\n",
    "\n",
    "Ipython allows for native interactions with your OS terminal (e.g. ls and cp commands work)\n",
    "\n",
    "Jupyter provides a clean and pretty way (enhanced with Markdown) to demonstrate code and provides (IMO) the best way to demonstrate plots (you can plot in 3D and with a GUI manipulate it)"
   ]
  },
  {
   "cell_type": "code",
   "execution_count": null,
   "metadata": {},
   "outputs": [],
   "source": []
  }
 ],
 "metadata": {
  "celltoolbar": "Slideshow",
  "kernelspec": {
   "display_name": "Python 3",
   "language": "python",
   "name": "python3"
  },
  "language_info": {
   "codemirror_mode": {
    "name": "ipython",
    "version": 3
   },
   "file_extension": ".py",
   "mimetype": "text/x-python",
   "name": "python",
   "nbconvert_exporter": "python",
   "pygments_lexer": "ipython3",
   "version": "3.7.0"
  }
 },
 "nbformat": 4,
 "nbformat_minor": 2
}
