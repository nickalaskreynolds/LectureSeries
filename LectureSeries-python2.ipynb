{
 "cells": [
  {
   "cell_type": "markdown",
   "metadata": {
    "slideshow": {
     "slide_type": "slide"
    }
   },
   "source": [
    "# \"This isn't normal [Python]... This is advanced [Python]\"\n",
    "\n",
    "## Lecture Series: Day 5\n",
    "### Nickalas Reynolds\n",
    "### University of Oklahoma"
   ]
  },
  {
   "cell_type": "markdown",
   "metadata": {
    "slideshow": {
     "slide_type": "subslide"
    }
   },
   "source": [
    "## Outline\n",
    " * Libraries\n",
    " * Unusual Functions\n",
    " * Function Annotations (Briefly)\n",
    " * decorators + chaining\n",
    " * classes\n",
    " * Module Creation\n",
    " * Processing vs Threading"
   ]
  },
  {
   "cell_type": "markdown",
   "metadata": {
    "slideshow": {
     "slide_type": "slide"
    }
   },
   "source": [
    "## Lets take Python programming to the next level\n",
    "\n",
    "Some libraries you should use:\n",
    " * re\n",
    " * multiprocessing/threading\n",
    " * emcee\n",
    " * CREATE YOUR OWN!"
   ]
  },
  {
   "cell_type": "markdown",
   "metadata": {
    "slideshow": {
     "slide_type": "slide"
    }
   },
   "source": [
    "# Unusual Functions\n",
    "------------\n",
    "These functions not everyone uses but are extremely helpful.\n",
    "\n",
    "These are ''generator-esque'' wrapper functions.\n",
    "\n",
    "I am not going over generators formally, but they are useful for memory efficient coding"
   ]
  },
  {
   "cell_type": "code",
   "execution_count": 10,
   "metadata": {
    "slideshow": {
     "slide_type": "subslide"
    }
   },
   "outputs": [
    {
     "name": "stdout",
     "output_type": "stream",
     "text": [
      "[3, 6, 9]\n",
      "Lambda Functions\n",
      "Object: <function <lambda> at 0x7efc180bf598>  With value at 3: 0\n",
      "\n",
      "Direct Lambda Size:  136\n",
      "Functional Form 1:  136\n",
      "Functional Form 2:  136\n",
      "Class Equivalent of lambda:  1056\n",
      "Filter Function...\n",
      "Object: <filter object at 0x7efc180c1048>  With value: [3, 6, 9]\n",
      "Object: <filter object at 0x7efc180c1048>  With value: []\n",
      "\n",
      "Map function...\n",
      "Object: <map object at 0x7efc180c1208>  With value: ['3', '6', '9']\n"
     ]
    }
   ],
   "source": [
    "# list comprehension\n",
    "mod3 = [x for x in [1, 2, 3, 4, 5, 6, 7, 8, 9] if x % 3 == 0]\n",
    "print(mod3)\n",
    "\n",
    "# Lambda\n",
    "print('Lambda Functions')\n",
    "a = (lambda x: x % 3)\n",
    "print('Object:',a,' With value at 3:',a(3)) # returns modulo 3\n",
    "print()\n",
    "\n",
    "# why use lambda? Memory efficiency trade for runtime\n",
    "import sys\n",
    "def lambda_transform(n):\n",
    "    return lambda x: x + n\n",
    "\n",
    "def func_transform(x, n):\n",
    "    return x + n\n",
    "\n",
    "class class_transform():\n",
    "    def __init__(self,x):\n",
    "        self.x = x\n",
    "    def __call__(self,y):\n",
    "        return self.x + y\n",
    "\n",
    "# size comparison\n",
    "print('Direct Lambda Size: ',sys.getsizeof((lambda x: x + n)))\n",
    "print('Functional Form 1: ',sys.getsizeof(lambda_transform))\n",
    "print('Functional Form 2: ',sys.getsizeof(func_transform))\n",
    "print('Class Equivalent of lambda: ',sys.getsizeof(class_transform))\n",
    "\n",
    "# filter\n",
    "print('Filter Function...')\n",
    "mod3 = filter(lambda x: x % 3 == 0, [1, 2, 3, 4, 5, 6, 7, 8, 9])\n",
    "print('Object:',mod3,' With value:',list(mod3))\n",
    "print('Object:',mod3,' With value:',list(mod3))\n",
    "print()\n",
    "\n",
    "# maps\n",
    "print('Map function...')\n",
    "mod3 = map(str,filter(lambda x: x % 3 == 0, [1, 2, 3, 4, 5, 6, 7, 8, 9]))\n",
    "print('Object:',mod3,' With value:',list(mod3))"
   ]
  },
  {
   "cell_type": "markdown",
   "metadata": {
    "slideshow": {
     "slide_type": "slide"
    }
   },
   "source": [
    "# Function Annotations\n",
    "\n",
    "Uses:\n",
    " * only in >= 3.x\n",
    " * Doc. generators\n",
    " * 3rd Party Programs\n",
    " * Quickly reading code"
   ]
  },
  {
   "cell_type": "code",
   "execution_count": 1,
   "metadata": {
    "slideshow": {
     "slide_type": "subslide"
    }
   },
   "outputs": [],
   "source": [
    "def fib(n:'int', output:'list'=[])-> 'list': \n",
    "    if n == 0: \n",
    "        return output \n",
    "    else: \n",
    "        if len(output)< 2: \n",
    "            output.append(1) \n",
    "            fib(n-1, output) \n",
    "        else: \n",
    "            last = output[-1] \n",
    "            second_last = output[-2] \n",
    "            output.append(last + second_last) \n",
    "            fib(n-1, output) \n",
    "        return output "
   ]
  },
  {
   "cell_type": "code",
   "execution_count": 3,
   "metadata": {
    "slideshow": {
     "slide_type": "subslide"
    }
   },
   "outputs": [
    {
     "name": "stdout",
     "output_type": "stream",
     "text": [
      "[1, 1, 2, 3, 5, 8, 13, 21, 34, 55, 89, 144, 233, 377, 610] classic\n",
      "[1, 1, 2, 3, 5, 8, 13, 21, 34, 55, 89, 144, 233, 377, 610, 987, 1597, 2584, 4181, 6765] interesting result, take time to checkout\n"
     ]
    }
   ],
   "source": [
    "print(fib(5), 'classic')\n",
    "print(fib(5), 'interesting result, take time to checkout')"
   ]
  },
  {
   "cell_type": "markdown",
   "metadata": {
    "slideshow": {
     "slide_type": "slide"
    }
   },
   "source": [
    "# Decorators\n",
    "\n",
    "Meta-programming: A program that tries to modify another part of the program at compile time.\n",
    "\n",
    "Decorators take in a function, change it, and then return the base function back."
   ]
  },
  {
   "cell_type": "code",
   "execution_count": 26,
   "metadata": {
    "slideshow": {
     "slide_type": "subslide"
    }
   },
   "outputs": [
    {
     "name": "stdout",
     "output_type": "stream",
     "text": [
      "Basic...\n",
      "2\n",
      "0\n",
      "\n",
      "Meta\n",
      "2\n",
      "0\n",
      "\n",
      "Object:\n",
      " <function called.<locals>.returned at 0x7efc18980840> ... \n",
      "Instantiate:\n",
      "Hello!\n"
     ]
    }
   ],
   "source": [
    "# Basic Functions\n",
    "def inc(x):\n",
    "    return x + 1\n",
    "def dec(x):\n",
    "    return x - 1\n",
    "print('Basic...')\n",
    "print(inc(1))\n",
    "print(dec(1))\n",
    "print()\n",
    "\n",
    "# Lets meta program\n",
    "def operate(func,x):\n",
    "    return func(x)\n",
    "print('Meta')\n",
    "print(operate(inc,1))\n",
    "print(operate(dec,1))\n",
    "print()\n",
    "\n",
    "# Nick what's the point?\n",
    "# 1 More example\n",
    "\n",
    "def called():\n",
    "    def returned():\n",
    "        print('Hello!')\n",
    "    return returned\n",
    "\n",
    "\n",
    "new = called()\n",
    "print('Object:\\n',new,'... \\nInstantiate:')\n",
    "new()"
   ]
  },
  {
   "cell_type": "markdown",
   "metadata": {
    "slideshow": {
     "slide_type": "subslide"
    }
   },
   "source": [
    "## Who Cares?\n",
    "\n",
    "Why do we need/should use this?\n",
    " * More complex programming\n",
    " * Logical Syntax\n",
    " * BACKWARDS COMPATABILITY!!"
   ]
  },
  {
   "cell_type": "code",
   "execution_count": 28,
   "metadata": {
    "slideshow": {
     "slide_type": "subslide"
    }
   },
   "outputs": [
    {
     "name": "stdout",
     "output_type": "stream",
     "text": [
      "0.6666666666666666\n",
      "Cannot divide by 0 !!!\n"
     ]
    }
   ],
   "source": [
    "# Standard Function\n",
    "def div(a, b):\n",
    "    return a / b\n",
    "\n",
    "print(div(20,30))\n",
    "\n",
    "# now lets try something\n",
    "try:\n",
    "    print(div(20,0))\n",
    "except ZeroDivisionError as e:\n",
    "    print('Cannot divide by 0 !!!')\n",
    "\n",
    "# We forgot about 0"
   ]
  },
  {
   "cell_type": "markdown",
   "metadata": {
    "slideshow": {
     "slide_type": "subslide"
    }
   },
   "source": [
    "## Backward compatible\n",
    "#### Sure we could just modify the code directly (in this case it is easy)\n",
    "#### But what about codes that modify inputs/ complex outputs/ etc\n",
    "\n",
    "#### If you Just start changing code in the future, it won't be easily accessible to older codes"
   ]
  },
  {
   "cell_type": "code",
   "execution_count": 53,
   "metadata": {
    "slideshow": {
     "slide_type": "subslide"
    }
   },
   "outputs": [
    {
     "name": "stdout",
     "output_type": "stream",
     "text": [
      "0.6666666666666666\n",
      "Inputs: 20 0\n",
      "Cannot divide by 0 !!!\n"
     ]
    }
   ],
   "source": [
    "# Lets make a new function\n",
    "def smart_divide(func):\n",
    "    def inner(a, b):\n",
    "        if b == 0:\n",
    "            print('Inputs:',a, b)\n",
    "            print('Cannot divide by 0 !!!')\n",
    "            return\n",
    "        return func(a, b)\n",
    "    return inner\n",
    "\n",
    "# now lets patch\n",
    "@smart_divide\n",
    "def div(a, b):\n",
    "    print(a / b)\n",
    "\n",
    "# With Decorators now\n",
    "div(20,30)\n",
    "div(20,0)"
   ]
  },
  {
   "cell_type": "code",
   "execution_count": 55,
   "metadata": {
    "slideshow": {
     "slide_type": "subslide"
    }
   },
   "outputs": [
    {
     "name": "stdout",
     "output_type": "stream",
     "text": [
      "********************\n",
      "0.6666666666666666\n",
      "********************\n",
      "********************\n",
      "Inputs: 20 0\n",
      "Cannot divide by 0 !!!\n",
      "********************\n"
     ]
    }
   ],
   "source": [
    "# We can also chain these\n",
    "def star(func):\n",
    "    def inner(*args, **kwargs):\n",
    "        print('*' * 20)\n",
    "        func(*args, **kwargs)\n",
    "        print('*' * 20)\n",
    "    return inner\n",
    "\n",
    "# now apply patch\n",
    "@star\n",
    "@smart_divide\n",
    "def div(a, b):\n",
    "    print( a / b)\n",
    "\n",
    "# With new patch\n",
    "div(20, 30)\n",
    "div(20, 0)"
   ]
  },
  {
   "cell_type": "markdown",
   "metadata": {
    "slideshow": {
     "slide_type": "slide"
    }
   },
   "source": [
    "# Classes\n",
    "---------------------\n",
    "### This is the most powerful feature of python\n",
    "\n",
    " * What defines OOP\n",
    " * classes are abstract \n",
    " * Everything in python is an object and all objects have class `type`!\n",
    "\n",
    "Understanding classes is an important step in becoming an effective programmer.\n",
    "\n",
    "Making an object from a class is called instantiation and we will be working with instances of that class."
   ]
  },
  {
   "cell_type": "code",
   "execution_count": 58,
   "metadata": {
    "slideshow": {
     "slide_type": "subslide"
    }
   },
   "outputs": [],
   "source": [
    "class Dog(object):\n",
    "    \n",
    "    def __init__(self,name,age):\n",
    "        self.name = name\n",
    "        self.age = age\n",
    "    \n",
    "    def roll_over(self):\n",
    "        print('{} rolls over!'.format(self.name))\n",
    "        \n",
    "    def bark(self):\n",
    "        print('{} woofs!'.format(self.name))\n",
    "        \n",
    "class Cat(object):\n",
    "    \n",
    "    def __init__(self, name, age):\n",
    "        self.name = name\n",
    "        self.age = age\n",
    "        \n",
    "    def meow(self):\n",
    "        print(\"{} meows!\".format(self.name))\n",
    "        \n",
    "class Snake(object):\n",
    "    \n",
    "    def __init__(self,name,age):\n",
    "        self.name = name\n",
    "        self.age = age\n",
    "    \n",
    "    def slither(self):\n",
    "        print('{} sssssssssssssss!'.format(self.name))"
   ]
  },
  {
   "cell_type": "code",
   "execution_count": 62,
   "metadata": {
    "slideshow": {
     "slide_type": "subslide"
    }
   },
   "outputs": [
    {
     "name": "stdout",
     "output_type": "stream",
     "text": [
      "Joe woofs!\n",
      "Bobby meows!\n",
      "Ages: Joe is 20yrs and Bobby is 5yrs\n"
     ]
    }
   ],
   "source": [
    "x = Dog('Joe',20)\n",
    "y = Cat('Bobby',5)\n",
    "x.bark()\n",
    "y.meow()\n",
    "print(f'Ages: {x.name} is {x.age}yrs and {y.name} is {y.age}yrs')"
   ]
  },
  {
   "cell_type": "markdown",
   "metadata": {
    "slideshow": {
     "slide_type": "subslide"
    }
   },
   "source": [
    "A lot is going on here but you will get used to the structure as time goes on.  \n",
    "\n",
    "First of all, `__init__` (double underscores), `roll_over`, and `bark` are *methods*.  Methods are functions that are part of a class and most everything you've learned about functions in this lecture applies to them.  `__init__` is a special (''magic'') method  that Python recognizes and runs automatically whenever a new instance of `Dog` is created.  \n",
    "\n",
    "Note the 3 parameters of `__init__`: `self`, `name`, and `age`.  `self` is a required parameter in methods (by default) and it must come before all the others.  `self` is a reference to the instance itself.  Attributes are assigned to the instance by declaring `self` + the variable name (i.e. `self.name = name`).  Attributes are variables associated with an instance of a class.  They can, in turn, be accessed via `instance.attribute`.\n",
    "\n",
    "Methods `roll_over` and `bark` don't do much now; they just issue print statements.  However one can imagine how these methods could be written to interact with a full program.\n",
    "\n",
    "Now let's create an instance of `Dog` and play around with its methods."
   ]
  },
  {
   "cell_type": "code",
   "execution_count": 64,
   "metadata": {
    "slideshow": {
     "slide_type": "subslide"
    }
   },
   "outputs": [
    {
     "name": "stdout",
     "output_type": "stream",
     "text": [
      "Spot rolls over!\n",
      "Spot woofs!\n",
      "Lassie rolls over!\n",
      "Sir Pounce meows!\n"
     ]
    }
   ],
   "source": [
    "# instantiate\n",
    "doge = Dog('Spot', 3)\n",
    "doge.roll_over()\n",
    "doge.bark()\n",
    "\n",
    "# change name (poor puppers)\n",
    "doge.name = \"Lassie\"\n",
    "doge.roll_over()\n",
    "\n",
    "# new kibben\n",
    "kibben = Cat('Sir Pounce',3)\n",
    "kibben.meow()"
   ]
  },
  {
   "cell_type": "markdown",
   "metadata": {
    "slideshow": {
     "slide_type": "subslide"
    }
   },
   "source": [
    "# Inheritance + Custom Classes\n",
    "---\n",
    "Our Cat definition closely resembles Dog: the `__init__` methods are identical and Cat has a meow method that functions the same way Dog.bark does. What if we wanted to create classes of other pets? We would be forced to write duplicate code for objects that behave similarly.\n",
    "\n",
    "### Inheritance\n",
    " * Allows one to write specialized versions of classes. \n",
    " * When one class inherits from another, it takes all the attributes and methods of the parent class. \n",
    " * Good for chaining Classes Together\n",
    "\n",
    "\n",
    "Let us apply inheritance to our cat and dog problem and think about a base class."
   ]
  },
  {
   "cell_type": "code",
   "execution_count": 75,
   "metadata": {
    "slideshow": {
     "slide_type": "subslide"
    }
   },
   "outputs": [],
   "source": [
    "class Pet(object):\n",
    "    \n",
    "    def __init__(self, name, age, legs=0):\n",
    "        self.name = name\n",
    "        self.age = age\n",
    "        self.legs = legs\n",
    "        self.speech = ''\n",
    "        \n",
    "    def speak(self, speech):\n",
    "        self.speech = f'{speech}.'\n",
    "        print(speech + '. I am {} years old'.format(self.age))\n",
    "\n",
    "    def about(self):\n",
    "        print(f'{self.speech} I have {self.legs} legs')\n",
    "\n",
    "class Dog(Pet):\n",
    "    \n",
    "    def __init__(self, name, age, legs=4):\n",
    "        # super(Dog, self).__init__(name, age) #python 2\n",
    "        super().__init__(name, age, legs) #python 3\n",
    "        \n",
    "    def bark(self):\n",
    "        self.speak('{} woofs!'.format(self.name))\n",
    "    \n",
    "    def roll_over(self):\n",
    "        print(\"{} rolled over!\".format(self.name))\n",
    "        \n",
    "class Cat(Pet):\n",
    "    \n",
    "    def __init__(self, name, age, legs=4):\n",
    "        # super(Cat, self).__init__(name, age) #python 2\n",
    "        super().__init__(name, age, legs) #python 3\n",
    "        \n",
    "    def meow(self):\n",
    "        self.speak('{} meows!'.format(self.name))"
   ]
  },
  {
   "cell_type": "code",
   "execution_count": 78,
   "metadata": {
    "slideshow": {
     "slide_type": "subslide"
    }
   },
   "outputs": [
    {
     "name": "stdout",
     "output_type": "stream",
     "text": [
      "Spot rolled over!\n",
      "Spot woofs!. I am 3 years old\n",
      "Spot woofs!. I have 4 legs\n",
      "Lassie rolled over!\n",
      "Sir Pounce meows!. I am 3 years old\n",
      "Sir Pounce meows!. I have 4 legs\n"
     ]
    }
   ],
   "source": [
    "doge = Dog('Spot', 3)\n",
    "doge.roll_over()\n",
    "doge.bark()\n",
    "doge.about()\n",
    "doge.name = \"Lassie\"\n",
    "doge.roll_over()\n",
    "kibben = Cat('Sir Pounce',3)\n",
    "kibben.meow()\n",
    "kibben.about()"
   ]
  },
  {
   "cell_type": "markdown",
   "metadata": {
    "slideshow": {
     "slide_type": "slide"
    }
   },
   "source": [
    "# Multiprocessing vs Multithreading"
   ]
  },
  {
   "cell_type": "markdown",
   "metadata": {
    "slideshow": {
     "slide_type": "subslide"
    }
   },
   "source": [
    "### Multiprocessing via `import multiprocessing`\n",
    "* New spawned process is independent of first or any other process\n",
    "* Starting up is slow (comparitively)\n",
    "* Non-Shared memory/address space (pointer friendly people)\n",
    "* One GIL per process\n",
    "* Think of starting a new python with each call\n",
    "* Think parallel\n",
    "* Good for modelling or any independent actions\n",
    "\n",
    "### Multithreading via `import threading`\n",
    "* New thread is a child of the parent process\n",
    "* Starting up is fast (comparitively)\n",
    "* Memory is shared\n",
    "* One GIL for all threads\n",
    "* Like queueing numerous jobs\n",
    "* Think concurrent\n",
    "* Good for queries/ network tasks/ db accessing/ graphical building\n",
    "\n",
    "# Examples"
   ]
  },
  {
   "cell_type": "markdown",
   "metadata": {
    "slideshow": {
     "slide_type": "subslide"
    }
   },
   "source": [
    "# Thank you for coming out\n",
    "## Slides are all on Github <nickalaskreynolds/LectureSeries>\n",
    "# Questions?"
   ]
  },
  {
   "cell_type": "code",
   "execution_count": null,
   "metadata": {},
   "outputs": [],
   "source": []
  },
  {
   "cell_type": "code",
   "execution_count": null,
   "metadata": {},
   "outputs": [],
   "source": []
  },
  {
   "cell_type": "code",
   "execution_count": null,
   "metadata": {},
   "outputs": [],
   "source": []
  }
 ],
 "metadata": {
  "celltoolbar": "Slideshow",
  "kernelspec": {
   "display_name": "Python 3",
   "language": "python",
   "name": "python3"
  },
  "language_info": {
   "codemirror_mode": {
    "name": "ipython",
    "version": 3
   },
   "file_extension": ".py",
   "mimetype": "text/x-python",
   "name": "python",
   "nbconvert_exporter": "python",
   "pygments_lexer": "ipython3",
   "version": "3.7.0"
  }
 },
 "nbformat": 4,
 "nbformat_minor": 2
}
